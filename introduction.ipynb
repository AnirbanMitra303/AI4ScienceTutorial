{
 "cells": [
  {
   "cell_type": "markdown",
   "metadata": {},
   "source": [
    "# Introductory Material\n",
    "\n",
    "Import this IPython Notebook into [Colaborotory](colab.research.google.com) first.\n",
    "\n",
    "This is a 'Markdown' or 'Text' cell where notes can be made to help you remember what you were doing."
   ]
  },
  {
   "cell_type": "code",
   "execution_count": 3,
   "metadata": {},
   "outputs": [
    {
     "name": "stdout",
     "output_type": "stream",
     "text": [
      "tensorflow version: 1.13.1\n"
     ]
    }
   ],
   "source": [
    "# This is a code cell where you can run Python code on the local machine\n",
    "import tensorflow as tf\n",
    "print(f'tensorflow version: {tf.__version__}')\n",
    "# when you're done typing you hit <shift>+<enter> and the cell is executed in the Python Interpreter"
   ]
  },
  {
   "cell_type": "markdown",
   "metadata": {},
   "source": [
    "You can also run bash shell commands using `!<command>`"
   ]
  },
  {
   "cell_type": "code",
   "execution_count": 4,
   "metadata": {},
   "outputs": [
    {
     "name": "stdout",
     "output_type": "stream",
     "text": [
      "Hello World\r\n"
     ]
    }
   ],
   "source": [
    "!echo Hello World"
   ]
  },
  {
   "cell_type": "code",
   "execution_count": 6,
   "metadata": {},
   "outputs": [
    {
     "name": "stdout",
     "output_type": "stream",
     "text": [
      "LICENSE                 \u001b[34msess1_supervised\u001b[m\u001b[m        \u001b[34msess5_ensemble\u001b[m\u001b[m\r\n",
      "README.md               \u001b[34msess2_timeseries\u001b[m\u001b[m        \u001b[34msess6_reinforcement\u001b[m\u001b[m\r\n",
      "\u001b[34mREADME_imgs\u001b[m\u001b[m             \u001b[34msess3_unsupervised\u001b[m\u001b[m\r\n",
      "introduction.ipynb      \u001b[34msess4_generative_models\u001b[m\u001b[m\r\n"
     ]
    }
   ],
   "source": [
    "!ls"
   ]
  },
  {
   "cell_type": "markdown",
   "metadata": {},
   "source": [
    "Let's checkout the AI4ScienceTutorial to our local Colaboratory Virtual Machine:"
   ]
  },
  {
   "cell_type": "code",
   "execution_count": null,
   "metadata": {},
   "outputs": [],
   "source": [
    "!git clone https://github.com/argonne-lcf/AI4ScienceTutorial.git"
   ]
  }
 ],
 "metadata": {
  "kernelspec": {
   "display_name": "Python 3",
   "language": "python",
   "name": "python3"
  },
  "language_info": {
   "codemirror_mode": {
    "name": "ipython",
    "version": 3
   },
   "file_extension": ".py",
   "mimetype": "text/x-python",
   "name": "python",
   "nbconvert_exporter": "python",
   "pygments_lexer": "ipython3",
   "version": "3.6.5"
  }
 },
 "nbformat": 4,
 "nbformat_minor": 2
}
