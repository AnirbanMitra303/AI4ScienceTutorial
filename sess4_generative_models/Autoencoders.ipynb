{
 "cells": [
  {
   "cell_type": "markdown",
   "metadata": {},
   "source": [
    "## Auto Encoders"
   ]
  },
  {
   "cell_type": "markdown",
   "metadata": {},
   "source": [
    "At it's core, an autoencoder is a function that takes complex inputs and performs a dimensionality reduction of the data.  Principal Component Analysis is an example of a classical encoding algorithm.  Even a simple linear regression in 2D can serve as an encoder, since you map 2 dimensions (x and y) into just one dimension (position along a line).\n",
    "\n",
    "An important feature of autoencoders is the ability to reconstruct the input data from the compressed feature representation.  It's easy to see how this is done when you have used PCA or linear regression, but it is more complex with a neural network.\n",
    "\n",
    "One advantage of using neural networks as auto-encoders is that they have capacity to encode complex data, and the training regime for encoding is not overly complex and similar for many types of data.\n",
    "\n",
    "In this notebook, we will build an autoencoder for handwritten digits between 0 and 99, inclusive, generated via the mnist dataset."
   ]
  },
  {
   "cell_type": "code",
   "execution_count": 1,
   "metadata": {},
   "outputs": [],
   "source": [
    "# Load the data generator and tensorflow:\n",
    "\n",
    "import tensorflow as tf\n",
    "import numpy\n",
    "import random\n",
    "tf.enable_eager_execution()\n",
    "from src.utils import data_generator\n",
    "\n",
    "import matplotlib.pyplot as plt\n",
    "import matplotlib.gridspec as gridspec\n",
    "from IPython.display import display, clear_output\n",
    "\n",
    "\n"
   ]
  },
  {
   "cell_type": "markdown",
   "metadata": {},
   "source": [
    "### Preliminary: data loading pipeline"
   ]
  },
  {
   "cell_type": "markdown",
   "metadata": {},
   "source": [
    "We're doing something a little unorthodox to make this interesting, which is doing MNIST on digits from 0 to 99, not 0 to 9.  Here is a short class that can handle the data loading for this:"
   ]
  },
  {
   "cell_type": "code",
   "execution_count": 2,
   "metadata": {},
   "outputs": [],
   "source": [
    "class mnist_generator(object):\n",
    "    '''\n",
    "    This class takes the mnist dataset and generates multi-digit examples.\n",
    "    The goal here is to create on-the-fly augmented data that is more complex\n",
    "    than just 0 to 9, but also very easy to get access to.\n",
    "    '''\n",
    "    \n",
    "    def __init__(self, seed=0):\n",
    "        # Use TF to get the dataset, will download if needed.\n",
    "        (x_train, y_train), (x_test, y_test) = tf.keras.datasets.mnist.load_data()\n",
    "        x_train = x_train.astype(numpy.float32) * (1./256)\n",
    "        x_test  = x_test.astype(numpy.float32) * (1./256)\n",
    "\n",
    "        self._x_train_base = x_train\n",
    "        self._y_train_base = y_train        \n",
    "        self._x_test_base  = x_test\n",
    "        self._y_test_base  = y_test        \n",
    "        \n",
    "        self._base_shape = [28,28]\n",
    "        \n",
    "        self._random = random.Random(seed)\n",
    "        \n",
    "    def next_train_batch(self, batch_size=10, n_digits=2):\n",
    "        '''\n",
    "        Create a new training batch of a specified number of images,\n",
    "        with the specified number of digits per image.\n",
    "        \n",
    "        Parameters\n",
    "        ----------\n",
    "        batch_size : int (default = 10)\n",
    "        n_digits : int (default = 2)\n",
    "        Returns\n",
    "        -------\n",
    "        images : ndarray (shape = [batch_size, 28, n_digits*28]\n",
    "        labels : ndarray (shape = [batch_size] )\n",
    "\n",
    "        Examples\n",
    "        --------\n",
    "        # Get a batch with 10 images, each a 2 digit number (Default):\n",
    "        images, labels = generator.next_train_batch()\n",
    "        \n",
    "        # Get a batch with 20 images, each a 3 digit number:\n",
    "        images, labels = generator.next_train_batch(20, 3)\n",
    "        '''\n",
    "        \n",
    "        # First, allocate memory to hold the output data:\n",
    "        # Data is stored as [B, H, W, C]\n",
    "\n",
    "        images = numpy.zeros([batch_size, self._base_shape[0], n_digits*self._base_shape[1], 1])\n",
    "        labels = numpy.zeros([batch_size], dtype=numpy.int32)\n",
    "        \n",
    "        indexes = numpy.asarray(\n",
    "            self._random.sample(\n",
    "                range(len(self._x_train_base)),\n",
    "                batch_size*n_digits\n",
    "            )\n",
    "        )\n",
    "\n",
    "        indexes = indexes.reshape([batch_size, n_digits])\n",
    "        dims = [10] * n_digits\n",
    "        for b in range(batch_size):\n",
    "            # pick a random number from the train set:\n",
    "\n",
    "            for n in range(n_digits):\n",
    "                i = indexes[b][n]\n",
    "                images[b, :, n*28:(n+1)*28, 0] = self._x_train_base[i]\n",
    "                \n",
    "            this_label = [ self._y_train_base[j] for j in indexes[b] ]\n",
    "            labels[b] = numpy.ravel_multi_index(this_label, dims)\n",
    "                \n",
    "        return images, labels\n",
    "\n",
    "                \n",
    "\n",
    "    def next_test_batch(self, batch_size=10, n_digits=2):\n",
    "        '''\n",
    "        Create a new testing batch of a specified number of images,\n",
    "        with the specified number of digits per image.\n",
    "        \n",
    "        Parameters\n",
    "        ----------\n",
    "        batch_size : int (default = 10)\n",
    "        n_digits : int (default = 2)\n",
    "        Returns\n",
    "        -------\n",
    "        images : ndarray (shape = [batch_size, 28, n_digits*28]\n",
    "        labels : ndarray (shape = [batch_size] )\n",
    "\n",
    "        Examples\n",
    "        --------\n",
    "        # Get a batch with 10 images, each a 2 digit number (Default):\n",
    "        images, labels = generator.next_train_batch()\n",
    "        \n",
    "        # Get a batch with 20 images, each a 3 digit number:\n",
    "        images, labels = generator.next_train_batch(20, 3)\n",
    "        '''\n",
    "        \n",
    "        # First, allocate memory to hold the output data:\n",
    "        # Data is stored as [B, H, W, C]\n",
    "\n",
    "        images = numpy.zeros([batch_size, self._base_shape[0], n_digits*self._base_shape[1], 1])\n",
    "        labels = numpy.zeros([batch_size], dtype=numpy.int32)\n",
    "        \n",
    "        indexes = numpy.asarray(\n",
    "            self._random.sample(\n",
    "                range(len(self._x_test_base)),\n",
    "                batch_size*n_digits\n",
    "            )\n",
    "        )\n",
    "\n",
    "        indexes = indexes.reshape([batch_size, n_digits])\n",
    "        dims = [10] * n_digits\n",
    "        for b in range(batch_size):\n",
    "            # pick a random number from the train set:\n",
    "\n",
    "            for n in range(n_digits):\n",
    "                i = indexes[b][n]\n",
    "                images[b, :, n*28:(n+1)*28, 0] = self._x_test_base[i]\n",
    "                \n",
    "            this_label = [ self._y_test_base[j] for j in indexes[b] ]\n",
    "            labels[b] = numpy.ravel_multi_index(this_label, dims)\n",
    "                \n",
    "        return images, labels\n",
    "\n",
    "\n",
    "                "
   ]
  },
  {
   "cell_type": "code",
   "execution_count": 3,
   "metadata": {},
   "outputs": [],
   "source": [
    "# Calling \"next_train_batch\" will let you get a batch of data:\n",
    "generator = mnist_generator()\n",
    "batch_size = 4\n",
    "n_digits   = 2\n",
    "images, labels = generator.next_train_batch(batch_size, n_digits)"
   ]
  },
  {
   "cell_type": "code",
   "execution_count": 4,
   "metadata": {},
   "outputs": [
    {
     "name": "stdout",
     "output_type": "stream",
     "text": [
      "(4, 28, 56, 1)\n"
     ]
    },
    {
     "data": {
      "text/plain": [
       "<matplotlib.image.AxesImage at 0x1323dc198>"
      ]
     },
     "execution_count": 4,
     "metadata": {},
     "output_type": "execute_result"
    },
    {
     "data": {
      "image/png": "[encoded data removed]",
      "text/plain": [
       "<Figure size 432x288 with 1 Axes>"
      ]
     },
     "metadata": {
      "needs_background": "light"
     },
     "output_type": "display_data"
    }
   ],
   "source": [
    "print(images.shape)\n",
    "\n",
    "# matplotlib can't show a 4D tensor as a 2D image natively.  \n",
    "# So reshape it into a 2D image:\n",
    "\n",
    "images_reshape = images.reshape(28*batch_size, 28*n_digits)\n",
    "plt.imshow(images_reshape)"
   ]
  },
  {
   "cell_type": "markdown",
   "metadata": {},
   "source": [
    "Does this image match the labels generated?\n"
   ]
  },
  {
   "cell_type": "code",
   "execution_count": 5,
   "metadata": {},
   "outputs": [
    {
     "name": "stdout",
     "output_type": "stream",
     "text": [
      "[49 33 87 94]\n"
     ]
    }
   ],
   "source": [
    "print(labels)"
   ]
  },
  {
   "cell_type": "markdown",
   "metadata": {},
   "source": [
    "Looks good!  Ok, let's build our autoencoder models"
   ]
  },
  {
   "cell_type": "markdown",
   "metadata": {},
   "source": [
    "### Part 1: Build our models\n",
    "\n",
    "We'll build two autoencoder models, one with a classic neural network and one with a convolutional neural network.  We'll map both down to the same intermediate representation.\n",
    "\n",
    "Our decoder stages will be built on the same core operations as the encoders but in reverse.\n",
    "\n",
    "#### Feed Forward NN encoder (no convolutions)"
   ]
  },
  {
   "cell_type": "code",
   "execution_count": 6,
   "metadata": {},
   "outputs": [],
   "source": [
    "\n",
    "class Encoder(tf.keras.models.Model):\n",
    "    '''\n",
    "    Simple autoencoder forward model\n",
    "    '''\n",
    "    \n",
    "    def __init__(self, num_digits=2, activation=tf.nn.relu, latent_size=10):\n",
    "        '''\n",
    "        Create a new instance of an encoder for mnist\n",
    "        with the specified number of digits per image and .\n",
    "        \n",
    "        Parameters\n",
    "        ----------\n",
    "        num_digits : int (default = 2)\n",
    "        activation : tf callable (default = tf.nn.relu)\n",
    "        latent_size: int (default 10)\n",
    "\n",
    "        latent_size will determine the size of the encoded space per digit.\n",
    "\n",
    "        '''\n",
    "        tf.keras.models.Model.__init__(self)\n",
    "        self._latent_size = latent_size\n",
    "        self._num_digits = num_digits\n",
    "        \n",
    "\n",
    "\n",
    "        self.encoder_layer_1 = tf.keras.layers.Dense(\n",
    "            units = 784, \n",
    "            activation=activation,\n",
    "        )\n",
    "        self.encoder_layer_2 = tf.keras.layers.Dense(\n",
    "            units = 392,\n",
    "            activation = activation,\n",
    "        )\n",
    "        self.encoder_layer_3 = tf.keras.layers.Dense(\n",
    "            units = 98,\n",
    "            activation = activation,\n",
    "        )\n",
    "        \n",
    "        self.final_encoding_layer = tf.keras.layers.Dense(\n",
    "            units = self._latent_size,\n",
    "            activation = None,\n",
    "        )\n",
    "        \n",
    "    def call(self, inputs):\n",
    "        \n",
    "        # We expect input in [B, H, W, C] format, but the dense model will need to flatten images:\n",
    "        x = tf.reshape(inputs, [inputs.shape[0], numpy.prod(inputs.shape[1:])  ]  )\n",
    "\n",
    "        x = self.encoder_layer_1(x)\n",
    "        x = self.encoder_layer_2(x)\n",
    "        x = self.encoder_layer_3(x)\n",
    "        return self.final_encoding_layer(x)"
   ]
  },
  {
   "cell_type": "code",
   "execution_count": 7,
   "metadata": {},
   "outputs": [],
   "source": [
    "\n",
    "class Decoder(tf.keras.models.Model):\n",
    "    \n",
    "    def __init__(self, num_digits = 2,  activation=tf.nn.relu,):\n",
    "        '''\n",
    "        Create a new instance of an encoder for mnist\n",
    "        with the specified number of digits per image and .\n",
    "        \n",
    "        Parameters\n",
    "        ----------\n",
    "        num_digits : int (default = 2)\n",
    "        activation : tf callable (default = tf.nn.relu)\n",
    "\n",
    "        '''\n",
    "        tf.keras.models.Model.__init__(self)\n",
    "        self._num_digits = num_digits\n",
    "\n",
    "\n",
    "        self.decoder_layer_1 = tf.keras.layers.Dense(\n",
    "            units = 98, \n",
    "            activation=activation,\n",
    "        )\n",
    "        self.decoder_layer_2 = tf.keras.layers.Dense(\n",
    "            units = 392,\n",
    "            activation = activation,\n",
    "        )\n",
    "        self.decoder_layer_3 = tf.keras.layers.Dense(\n",
    "            units = 784,\n",
    "            activation = activation,\n",
    "        )\n",
    "        \n",
    "        self.final_decoding_layer = tf.keras.layers.Dense(\n",
    "            units = num_digits*784,\n",
    "        )\n",
    "        \n",
    "    def call(self, inputs ):\n",
    "        \n",
    "        batch_size = inputs.shape[0]\n",
    "\n",
    "        x = self.decoder_layer_1(inputs)\n",
    "        x = self.decoder_layer_2(x)\n",
    "        x = self.decoder_layer_3(x)\n",
    "        x = self.final_decoding_layer(x)\n",
    "        \n",
    "        # We apply a sigmoid function to map the output image to the range [0, 1]\n",
    "        x = tf.nn.sigmoid(x)\n",
    "            \n",
    "        # Reshape to have the [B, H, W, C] shape:\n",
    "        x = tf.reshape(x, [batch_size, 28, self._num_digits*28, 1])\n",
    "        \n",
    "        \n",
    "        return x"
   ]
  },
  {
   "cell_type": "code",
   "execution_count": 8,
   "metadata": {},
   "outputs": [],
   "source": [
    "# Let's create instance of our models:\n",
    "encoder = Encoder()\n",
    "decoder = Decoder()"
   ]
  },
  {
   "cell_type": "code",
   "execution_count": 9,
   "metadata": {},
   "outputs": [],
   "source": [
    "# Load some data:\n",
    "batch_images, batch_labels = generator.next_train_batch(batch_size=1)\n",
    "# Reshape the data:\n",
    "\n",
    "# batch_images = batch_images.reshape([BATCH_SIZE, 28*28*NUM_DIGITS])\n",
    "\n",
    "intermediate_state = encoder(batch_images)\n",
    "decoded_images = decoder(intermediate_state)"
   ]
  },
  {
   "cell_type": "markdown",
   "metadata": {},
   "source": [
    "In that previous block, we ran a forward pass on both the encoder and the decoder, and had an intermediate output along the way.  Let's look at the network parameters and the untrained output:"
   ]
  },
  {
   "cell_type": "code",
   "execution_count": 10,
   "metadata": {},
   "outputs": [
    {
     "name": "stdout",
     "output_type": "stream",
     "text": [
      "_________________________________________________________________\n",
      "Layer (type)                 Output Shape              Param #   \n",
      "=================================================================\n",
      "dense (Dense)                multiple                  1230096   \n",
      "_________________________________________________________________\n",
      "dense_1 (Dense)              multiple                  307720    \n",
      "_________________________________________________________________\n",
      "dense_2 (Dense)              multiple                  38514     \n",
      "_________________________________________________________________\n",
      "dense_3 (Dense)              multiple                  990       \n",
      "=================================================================\n",
      "Total params: 1,577,320\n",
      "Trainable params: 1,577,320\n",
      "Non-trainable params: 0\n",
      "_________________________________________________________________\n",
      "None\n"
     ]
    }
   ],
   "source": [
    "print(encoder.summary())"
   ]
  },
  {
   "cell_type": "code",
   "execution_count": 11,
   "metadata": {},
   "outputs": [
    {
     "name": "stdout",
     "output_type": "stream",
     "text": [
      "_________________________________________________________________\n",
      "Layer (type)                 Output Shape              Param #   \n",
      "=================================================================\n",
      "dense_4 (Dense)              multiple                  1078      \n",
      "_________________________________________________________________\n",
      "dense_5 (Dense)              multiple                  38808     \n",
      "_________________________________________________________________\n",
      "dense_6 (Dense)              multiple                  308112    \n",
      "_________________________________________________________________\n",
      "dense_7 (Dense)              multiple                  1230880   \n",
      "=================================================================\n",
      "Total params: 1,578,878\n",
      "Trainable params: 1,578,878\n",
      "Non-trainable params: 0\n",
      "_________________________________________________________________\n",
      "None\n"
     ]
    }
   ],
   "source": [
    "#And here is the decoder:\n",
    "print(decoder.summary())"
   ]
  },
  {
   "cell_type": "code",
   "execution_count": 12,
   "metadata": {},
   "outputs": [
    {
     "data": {
      "text/plain": [
       "<matplotlib.image.AxesImage at 0x1028eefd0>"
      ]
     },
     "execution_count": 12,
     "metadata": {},
     "output_type": "execute_result"
    },
    {
     "data": {
      "image/png": "[encoded data removed]",
      "text/plain": [
       "<Figure size 432x288 with 1 Axes>"
      ]
     },
     "metadata": {
      "needs_background": "light"
     },
     "output_type": "display_data"
    }
   ],
   "source": [
    "# Let's display the input images:\n",
    "batch_images_reshape = batch_images.reshape(28*1, 28*2)\n",
    "plt.imshow(batch_images_reshape)"
   ]
  },
  {
   "cell_type": "code",
   "execution_count": 13,
   "metadata": {},
   "outputs": [
    {
     "data": {
      "text/plain": [
       "<matplotlib.image.AxesImage at 0x1248f1160>"
      ]
     },
     "execution_count": 13,
     "metadata": {},
     "output_type": "execute_result"
    },
    {
     "data": {
      "image/png": "[encoded data removed]",
      "text/plain": [
       "<Figure size 432x288 with 1 Axes>"
      ]
     },
     "metadata": {
      "needs_background": "light"
     },
     "output_type": "display_data"
    }
   ],
   "source": [
    "# And the intermediate state:\n",
    "# batch_images_reshape = batch_images.reshape(28*1, 28*2)\n",
    "plt.imshow(intermediate_state)"
   ]
  },
  {
   "cell_type": "code",
   "execution_count": 14,
   "metadata": {},
   "outputs": [
    {
     "data": {
      "text/plain": [
       "<matplotlib.image.AxesImage at 0x1249a56a0>"
      ]
     },
     "execution_count": 14,
     "metadata": {},
     "output_type": "execute_result"
    },
    {
     "data": {
      "image/png": "[encoded data removed]",
      "text/plain": [
       "<Figure size 432x288 with 1 Axes>"
      ]
     },
     "metadata": {
      "needs_background": "light"
     },
     "output_type": "display_data"
    }
   ],
   "source": [
    "# And here is the output image:\n",
    "decoded_images_reshape = decoded_images.numpy().reshape(28*1, 28*2)\n",
    "plt.imshow(decoded_images_reshape)"
   ]
  },
  {
   "cell_type": "markdown",
   "metadata": {},
   "source": [
    "As you might expect, the output is garbage initially.  No surprises there, the models are completely untrained."
   ]
  },
  {
   "cell_type": "markdown",
   "metadata": {},
   "source": [
    "## Training an autoencoder"
   ]
  },
  {
   "cell_type": "markdown",
   "metadata": {},
   "source": [
    "With a trained encoder/decoder pair, we want the input image to be as close as possible to the output image.  The loss for this network, then, can be constructed as just the mean-square-error of input to output.  We will train this with an AdamOptimizer."
   ]
  },
  {
   "cell_type": "code",
   "execution_count": 15,
   "metadata": {},
   "outputs": [
    {
     "data": {
      "image/png": "[encoded data removed]",
      "text/plain": [
       "<Figure size 2304x648 with 3 Axes>"
      ]
     },
     "metadata": {},
     "output_type": "display_data"
    }
   ],
   "source": [
    "optimizer = tf.train.AdamOptimizer()\n",
    "\n",
    "# We will keep track of loss along the way:\n",
    "steps = []\n",
    "loss_history = []\n",
    "val_loss_history = []\n",
    "val_steps = []\n",
    "\n",
    "# Define a figure here which we can update along the way:\n",
    "fig       = plt.figure(figsize=(32,9))\n",
    "# Create 2x2 sub plots\n",
    "gs = gridspec.GridSpec(2, 2)\n",
    "ax_loss   = plt.subplot(gs[:,0])\n",
    "ax_input  = plt.subplot(gs[0,1])\n",
    "ax_output = plt.subplot(gs[1,1])\n",
    "\n",
    "\n",
    "\n",
    "NUM_DIGITS=2\n",
    "BATCH_SIZE=64\n",
    "N_TRAINING_ITERATION=5000\n",
    "\n",
    "\n",
    "for i in range(N_TRAINING_ITERATION):\n",
    "\n",
    "    # Load some data:\n",
    "    batch_images, batch_labels = generator.next_train_batch(BATCH_SIZE, NUM_DIGITS)\n",
    "    # Reshape the data:\n",
    "#     batch_images = batch_images.reshape([BATCH_SIZE, 28*28*NUM_DIGITS])\n",
    "    with tf.GradientTape() as tape:\n",
    "        intermediate_state = encoder(batch_images)\n",
    "        decoded_images = decoder(intermediate_state)\n",
    "        loss_value = tf.losses.mean_squared_error(batch_images, decoded_images)\n",
    "\n",
    "    if i % 25 == 0:\n",
    "        test_images, test_labels = generator.next_test_batch(BATCH_SIZE, NUM_DIGITS)\n",
    "        test_images = test_images.reshape([BATCH_SIZE, 28*28*NUM_DIGITS])\n",
    "        val_intermediate_state = encoder(test_images)\n",
    "        val_decoded_images = decoder(intermediate_state)\n",
    "        val_loss_value = tf.losses.mean_squared_error(batch_images, decoded_images)\n",
    "        val_loss_history.append(val_loss_value.numpy())\n",
    "        val_steps.append(i)\n",
    "\n",
    "        # Here we update the plots.  Replot the loss, and show the latest input and output images\n",
    "        ax_loss.set_xlim(0, 1.1*i)\n",
    "        ax_loss.cla()\n",
    "        ax_loss.plot(steps, loss_history, label=\"Train Loss\")\n",
    "        ax_loss.plot(val_steps, val_loss_history, label=\"Test Loss\")\n",
    "        ax_loss.grid(True)\n",
    "        ax_loss.legend(fontsize=25)\n",
    "        \n",
    "        # Display an input image:\n",
    "        ax_input.imshow(batch_images[0].reshape(28, 28*NUM_DIGITS),vmin=0, vmax=1)\n",
    "        \n",
    "        # Display an output image:\n",
    "        ax_output.imshow(decoded_images.numpy()[0].reshape(28, 28*NUM_DIGITS),vmin=0, vmax=1)\n",
    "        \n",
    "        display(fig)\n",
    "        clear_output(wait = True)\n",
    "        plt.pause(0.25)\n",
    "\n",
    "    # Collect the trainable variables as the union of the encoder and decoder variables:\n",
    "    trainable_vars = encoder.trainable_variables + decoder.trainable_variables\n",
    "\n",
    "    \n",
    "    # Update the loss history:\n",
    "    loss_history.append(loss_value.numpy())\n",
    "    steps.append(i)\n",
    "    \n",
    "\n",
    "    # Apply the update to the model:\n",
    "    grads = tape.gradient(loss_value, trainable_vars)\n",
    "    optimizer.apply_gradients(zip(grads, trainable_vars),\n",
    "                             global_step=tf.train.get_or_create_global_step())\n",
    "\n"
   ]
  },
  {
   "cell_type": "markdown",
   "metadata": {},
   "source": [
    "On my laptop, 5000 iterations took 5 or 10 minutues to train (on the CPU). So you should get to good results without too much delay. The plot should update as it is training above.\n",
    "\n",
    "This is reasonable behavior for a loss function, the loss decreases rapidly at first and then slows.\n",
    "\n",
    "Next let's compare the original images, intermediate representations, and output images. We can evaluate this for both the input and the test set."
   ]
  },
  {
   "cell_type": "code",
   "execution_count": 16,
   "metadata": {},
   "outputs": [],
   "source": [
    "def run_inference(_encoder, _decoder, input_images):\n",
    "    '''\n",
    "    This function will make running inference throught the autoencoder easy.\n",
    "    '''\n",
    "    N_INFERENCE_IMAGES = input_images.shape[0]\n",
    "    input_images = input_images.reshape(N_INFERENCE_IMAGES, \n",
    "                                        NUM_DIGITS*28*28)\n",
    "\n",
    "\n",
    "    intermediate_rep = _encoder(input_images)\n",
    "    decoded_images = _decoder(intermediate_rep)\n",
    "    decoded_images = decoded_images.numpy().reshape(\n",
    "        N_INFERENCE_IMAGES*28, NUM_DIGITS*28)\n",
    "    \n",
    "    return intermediate_rep, decoded_images"
   ]
  },
  {
   "cell_type": "code",
   "execution_count": 17,
   "metadata": {},
   "outputs": [],
   "source": [
    "N_INFERENCE_IMAGES = 2\n",
    "\n",
    "original_images, labels = generator.next_train_batch(\n",
    "    N_INFERENCE_IMAGES, NUM_DIGITS)\n",
    "\n",
    "intermediate_rep, decoded_images = run_inference(\n",
    "    encoder, decoder, original_images)\n",
    "original_images = original_images.reshape(N_INFERENCE_IMAGES*28, NUM_DIGITS*28)"
   ]
  },
  {
   "cell_type": "code",
   "execution_count": 18,
   "metadata": {},
   "outputs": [
    {
     "data": {
      "image/png": "[encoded data removed]",
      "text/plain": [
       "<Figure size 360x720 with 1 Axes>"
      ]
     },
     "metadata": {
      "needs_background": "light"
     },
     "output_type": "display_data"
    },
    {
     "data": {
      "image/png": "[encoded data removed]",
      "text/plain": [
       "<Figure size 360x720 with 1 Axes>"
      ]
     },
     "metadata": {
      "needs_background": "light"
     },
     "output_type": "display_data"
    }
   ],
   "source": [
    "fig = plt.figure(figsize=(5, N_INFERENCE_IMAGES*5))\n",
    "plt.imshow(original_images)\n",
    "plt.show()\n",
    "fig = plt.figure(figsize=(5, N_INFERENCE_IMAGES*5))\n",
    "plt.imshow(decoded_images)\n",
    "plt.show()"
   ]
  },
  {
   "cell_type": "markdown",
   "metadata": {},
   "source": [
    "Well, this is interesting!  The outputs of the autoencoder definitely look like numbers, though not *exactly* the numbers that went into the network.  What does the intermediate representation look like?"
   ]
  },
  {
   "cell_type": "code",
   "execution_count": 19,
   "metadata": {},
   "outputs": [
    {
     "data": {
      "image/png": "[encoded data removed]",
      "text/plain": [
       "<Figure size 432x288 with 1 Axes>"
      ]
     },
     "metadata": {
      "needs_background": "light"
     },
     "output_type": "display_data"
    }
   ],
   "source": [
    "plt.imshow(intermediate_rep)\n",
    "plt.show()"
   ]
  },
  {
   "cell_type": "markdown",
   "metadata": {},
   "source": [
    "Can you tell what the numbers are from the intermediate representation?  I certainly can't.  But the decoder can, to a large extent, and that is impressive!\n",
    "\n",
    "Below, we use the autoencoder on the test dataset, which it has never seen before, to see how well the model generalizes:"
   ]
  },
  {
   "cell_type": "code",
   "execution_count": 245,
   "metadata": {},
   "outputs": [
    {
     "data": {
      "image/png": "[encoded data removed]",
      "text/plain": [
       "<Figure size 360x720 with 1 Axes>"
      ]
     },
     "metadata": {
      "needs_background": "light"
     },
     "output_type": "display_data"
    },
    {
     "data": {
      "image/png": "[encoded data removed]",
      "text/plain": [
       "<Figure size 360x720 with 1 Axes>"
      ]
     },
     "metadata": {
      "needs_background": "light"
     },
     "output_type": "display_data"
    }
   ],
   "source": [
    "N_INFERENCE_IMAGES = 2\n",
    "\n",
    "\n",
    "original_images, labels = generator.next_test_batch(\n",
    "    N_INFERENCE_IMAGES, NUM_DIGITS)\n",
    "\n",
    "intermediate_rep, decoded_images = run_inference(\n",
    "    encoder, decoder, original_images)\n",
    "original_images = original_images.reshape(N_INFERENCE_IMAGES*28, NUM_DIGITS*28)\n",
    "\n",
    "fig = plt.figure(figsize=(5, N_INFERENCE_IMAGES*5))\n",
    "plt.imshow(original_images, vmin=0, vmax=1)\n",
    "plt.show()\n",
    "fig = plt.figure(figsize=(5, N_INFERENCE_IMAGES*5))\n",
    "plt.imshow(decoded_images, vmin=0, vmax=1)\n",
    "plt.show()"
   ]
  },
  {
   "cell_type": "code",
   "execution_count": 24,
   "metadata": {},
   "outputs": [],
   "source": [
    "# Before continuing, let's save the models so we can restore them later if we want:\n",
    "encoder.save_weights(\"dense_encoder_{}digits.h5\".format(NUM_DIGITS))\n",
    "decoder.save_weights(\"dense_decoder_{}digits.h5\".format(NUM_DIGITS))"
   ]
  },
  {
   "cell_type": "markdown",
   "metadata": {},
   "source": [
    "\n",
    "\n",
    "## Convolutional Autoencoders\n",
    "\n",
    "The autoencoder/decoder pair we trained above was using dense, fully connected layers.  In total, each stage had about 1.5 M parameters.  For the mnist problem, this seems hefty: 3M total parameters to compress a dataset of images that are 28x28. We can implement a new encoder/decoder using convolutional neural networks to dramatically reduce the number of parameters needed - can we acheive the same fidelity?"
   ]
  },
  {
   "cell_type": "markdown",
   "metadata": {},
   "source": [
    "For this section, many of the techniques are identical, but our networks are not.  Let's define them:"
   ]
  },
  {
   "cell_type": "code",
   "execution_count": 307,
   "metadata": {},
   "outputs": [],
   "source": [
    "class ConvolutionalEncoder(tf.keras.models.Model):\n",
    "    '''\n",
    "    Simple autoencoder forward layer\n",
    "    '''\n",
    "    \n",
    "    def __init__(self, num_digits=2, activation=tf.nn.relu, latent_size = 10):\n",
    "        tf.keras.models.Model.__init__(self)\n",
    "        self._latent_size = latent_size\n",
    "        self._num_digits = num_digits\n",
    "\n",
    "        # Apply a 5x5 kernel to the image:\n",
    "        self.encoder_layer_1 = tf.keras.layers.Convolution2D(\n",
    "            kernel_size = [7, 7], \n",
    "            filters     = 24,\n",
    "            padding     = \"same\",\n",
    "            activation  = activation,\n",
    "        )\n",
    "        \n",
    "        # Use a 2x2 kernel of stride 2x2 to downsample:\n",
    "        self.pool_1 = tf.keras.layers.MaxPool2D()\n",
    "        \n",
    "        self.encoder_layer_2 = tf.keras.layers.Convolution2D(\n",
    "            kernel_size = [7, 7], \n",
    "            filters     = 64, \n",
    "            padding     = \"same\",\n",
    "            activation  = activation,\n",
    "        )\n",
    "        self.pool_2 = tf.keras.layers.MaxPool2D()\n",
    "\n",
    "        self.encoder_layer_3 = tf.keras.layers.Convolution2D(\n",
    "            kernel_size = [5, 5],\n",
    "            filters     = 64,\n",
    "            padding     = \"same\",\n",
    "            activation  = activation,\n",
    "        )\n",
    "        self.pool_3 = tf.keras.layers.MaxPool2D()\n",
    "\n",
    "        self.encoder_layer_final = tf.keras.layers.Dense(\n",
    "            units = latent_size,\n",
    "            activation = None,\n",
    "            )\n",
    "        \n",
    "        \n",
    "        \n",
    "\n",
    "\n",
    "    def call(self, inputs):\n",
    "        \n",
    "        batch_size = inputs.shape[0]\n",
    "        x = inputs\n",
    "        # Make sure the input is the right shape:\n",
    "        x = tf.reshape(x, [batch_size, 28, 28*self._num_digits, 1])\n",
    "            \n",
    "        x = self.encoder_layer_1(x)\n",
    "        x = self.pool_1(x)\n",
    "        x = self.encoder_layer_2(x)\n",
    "        x = self.pool_2(x)\n",
    "        x = self.encoder_layer_3(x)\n",
    "        x = self.pool_3(x)\n",
    "        x = tf.keras.layers.Flatten()(x)\n",
    "        x = self.encoder_layer_final(x)\n",
    "\n",
    "        return tf.reshape(x, [batch_size, self._latent_size])\n"
   ]
  },
  {
   "cell_type": "code",
   "execution_count": 326,
   "metadata": {},
   "outputs": [],
   "source": [
    "class ConvolutionalDecoder(tf.keras.models.Model):\n",
    "    \n",
    "    def __init__(self, num_digits=2, activation=tf.nn.relu):\n",
    "        tf.keras.models.Model.__init__(self)\n",
    "\n",
    "        self._num_digits = num_digits\n",
    "\n",
    "        # The decoder runs the encoder steps but in reverse.\n",
    "        \n",
    "        # The first step is a dense layer to get to the right number of units.\n",
    "        # It turns out to need to be of shape [3, 3*num_digits + x], where x = floor(num_digits/2)\n",
    "        self.dense = tf.keras.layers.Dense(\n",
    "            units = 3 * (3*num_digits + int(num_digits/2))\n",
    "        )\n",
    "        \n",
    "        self.shape0 = [3, (3*num_digits + int(num_digits/2)), 1]\n",
    "        self.shape1 = [7, 2 * (3*num_digits + int(num_digits/2))]\n",
    "        \n",
    "        \n",
    "        self.decoder_layer_1 = tf.keras.layers.Convolution2D(\n",
    "            kernel_size = [7, 7],\n",
    "            filters     = 64,\n",
    "            padding     = \"same\",\n",
    "            use_bias    = True,\n",
    "            kernel_regularizer = tf.contrib.layers.l2_regularizer,\n",
    "            activation  = activation,\n",
    "        )\n",
    "        \n",
    "        self.unpool_1 = tf.keras.layers.UpSampling2D(\n",
    "            size          = 2,\n",
    "            interpolation = \"nearest\",\n",
    "        )\n",
    "\n",
    "        self.decoder_layer_2 = tf.keras.layers.Convolution2D(\n",
    "            kernel_size = [7, 7],\n",
    "            filters     = 64,\n",
    "            padding     = \"same\",\n",
    "            use_bias    = True,\n",
    "            kernel_regularizer = tf.contrib.layers.l2_regularizer,\n",
    "            activation  = activation,\n",
    "        )\n",
    "        \n",
    "        self.unpool_2 = tf.keras.layers.UpSampling2D(\n",
    "            size          = 2,\n",
    "            interpolation = \"nearest\",\n",
    "        )\n",
    "\n",
    "\n",
    "        self.decoder_layer_3 = tf.keras.layers.Convolution2D(\n",
    "            kernel_size = [5, 5],\n",
    "            filters     = 24,\n",
    "            padding     = \"same\",\n",
    "            use_bias    = True,\n",
    "            kernel_regularizer = tf.contrib.layers.l2_regularizer,\n",
    "            activation  = activation,\n",
    "        )\n",
    "        \n",
    "        self.decoder_layer_final = tf.keras.layers.Convolution2D(\n",
    "            kernel_size = [1, 1],\n",
    "            filters     = 1,\n",
    "            padding     = \"same\",\n",
    "            use_bias    = True,\n",
    "            kernel_regularizer = tf.contrib.layers.l2_regularizer,\n",
    "            activation  = None,\n",
    "        )\n",
    "        \n",
    "\n",
    "        \n",
    "    def call(self, inputs):\n",
    "        ''' \n",
    "        Reshape at input and output: \n",
    "        '''\n",
    "            \n",
    "        \n",
    "        batch_size = inputs.shape[0]\n",
    "\n",
    "\n",
    "        x = self.dense(inputs)\n",
    "\n",
    "\n",
    "        # First Step is to to un-pool the encoded state into the right shape:\n",
    "        x = tf.reshape(x, [batch_size, self.shape0[0], self.shape0[1], 1])\n",
    "        x = tf.image.resize_images(\n",
    "            x,\n",
    "            size=self.shape1\n",
    "        )\n",
    "        \n",
    "        x = self.decoder_layer_1(x)\n",
    "        x = self.unpool_1(x)\n",
    "        x = self.decoder_layer_2(x)\n",
    "        x = self.unpool_2(x)\n",
    "        x = self.decoder_layer_3(x)\n",
    "        x = self.decoder_layer_final(x)\n",
    "        \n",
    "        x = tf.reshape(x, [batch_size, 28, self._num_digits*28, 1])\n",
    "        return x"
   ]
  },
  {
   "cell_type": "markdown",
   "metadata": {},
   "source": [
    "Ok, now we have defined convolutional autoencoders.  We used a dense layer to map from the final convolutional output to the encoded space (in the encoder), and a similar dense layer to map from encoded space to pre-decoded shape."
   ]
  },
  {
   "cell_type": "markdown",
   "metadata": {},
   "source": [
    "Training the convolutional auto encoders is very similar to the fully connected auto encoders.  Let's look at the networks, and go through the training procedure again:"
   ]
  },
  {
   "cell_type": "code",
   "execution_count": 327,
   "metadata": {},
   "outputs": [],
   "source": [
    "conv_encoder = ConvolutionalEncoder()\n",
    "conv_decoder = ConvolutionalDecoder()"
   ]
  },
  {
   "cell_type": "code",
   "execution_count": 328,
   "metadata": {},
   "outputs": [],
   "source": [
    "# Load some data:\n",
    "batch_images, batch_labels = generator.next_train_batch(batch_size=1, n_digits=2)\n",
    "# Reshape the data:\n",
    "\n",
    "# batch_images = batch_images.reshape([BATCH_SIZE, 28*28*NUM_DIGITS])\n",
    "\n",
    "intermediate_state = conv_encoder(batch_images)\n",
    "decoded_images = conv_decoder(intermediate_state)"
   ]
  },
  {
   "cell_type": "code",
   "execution_count": 329,
   "metadata": {},
   "outputs": [
    {
     "name": "stdout",
     "output_type": "stream",
     "text": [
      "_________________________________________________________________\n",
      "Layer (type)                 Output Shape              Param #   \n",
      "=================================================================\n",
      "conv2d_322 (Conv2D)          multiple                  624       \n",
      "_________________________________________________________________\n",
      "max_pooling2d_171 (MaxPoolin multiple                  0         \n",
      "_________________________________________________________________\n",
      "conv2d_323 (Conv2D)          multiple                  38464     \n",
      "_________________________________________________________________\n",
      "max_pooling2d_172 (MaxPoolin multiple                  0         \n",
      "_________________________________________________________________\n",
      "conv2d_324 (Conv2D)          multiple                  102464    \n",
      "_________________________________________________________________\n",
      "max_pooling2d_173 (MaxPoolin multiple                  0         \n",
      "_________________________________________________________________\n",
      "dense_105 (Dense)            multiple                  13450     \n",
      "=================================================================\n",
      "Total params: 155,002\n",
      "Trainable params: 155,002\n",
      "Non-trainable params: 0\n",
      "_________________________________________________________________\n",
      "None\n"
     ]
    }
   ],
   "source": [
    "print(conv_encoder.summary())"
   ]
  },
  {
   "cell_type": "code",
   "execution_count": 330,
   "metadata": {},
   "outputs": [
    {
     "name": "stdout",
     "output_type": "stream",
     "text": [
      "_________________________________________________________________\n",
      "Layer (type)                 Output Shape              Param #   \n",
      "=================================================================\n",
      "dense_106 (Dense)            multiple                  231       \n",
      "_________________________________________________________________\n",
      "conv2d_325 (Conv2D)          multiple                  3200      \n",
      "_________________________________________________________________\n",
      "up_sampling2d_79 (UpSampling multiple                  0         \n",
      "_________________________________________________________________\n",
      "conv2d_326 (Conv2D)          multiple                  200768    \n",
      "_________________________________________________________________\n",
      "up_sampling2d_80 (UpSampling multiple                  0         \n",
      "_________________________________________________________________\n",
      "conv2d_327 (Conv2D)          multiple                  38424     \n",
      "_________________________________________________________________\n",
      "conv2d_328 (Conv2D)          multiple                  25        \n",
      "=================================================================\n",
      "Total params: 242,648\n",
      "Trainable params: 242,648\n",
      "Non-trainable params: 0\n",
      "_________________________________________________________________\n",
      "None\n"
     ]
    }
   ],
   "source": [
    "print(conv_decoder.summary())"
   ]
  },
  {
   "cell_type": "markdown",
   "metadata": {},
   "source": [
    "As promised, these networks are nearly 10x smaller in number of parameters."
   ]
  },
  {
   "cell_type": "code",
   "execution_count": 331,
   "metadata": {},
   "outputs": [
    {
     "data": {
      "image/png": "[encoded data removed]",
      "text/plain": [
       "<Figure size 2304x648 with 3 Axes>"
      ]
     },
     "metadata": {},
     "output_type": "display_data"
    }
   ],
   "source": [
    "optimizer = tf.train.AdamOptimizer()\n",
    "\n",
    "# We will keep track of loss along the way:\n",
    "steps = []\n",
    "loss_history = []\n",
    "val_loss_history = []\n",
    "val_steps = []\n",
    "\n",
    "# Define a figure here which we can update along the way:\n",
    "fig       = plt.figure(figsize=(32,9))\n",
    "# Create 2x2 sub plots\n",
    "gs = gridspec.GridSpec(2, 2)\n",
    "ax_loss   = plt.subplot(gs[:,0])\n",
    "ax_input  = plt.subplot(gs[0,1])\n",
    "ax_output = plt.subplot(gs[1,1])\n",
    "\n",
    "\n",
    "\n",
    "NUM_DIGITS=2\n",
    "BATCH_SIZE=12\n",
    "N_TRAINING_ITERATION=5000\n",
    "\n",
    "\n",
    "for i in range(N_TRAINING_ITERATION):\n",
    "\n",
    "    # Load some data:\n",
    "    batch_images, batch_labels = generator.next_train_batch(BATCH_SIZE, NUM_DIGITS)\n",
    "    # Reshape the data:\n",
    "#     batch_images = batch_images.reshape([BATCH_SIZE, 28*28*NUM_DIGITS])\n",
    "    with tf.GradientTape() as tape:\n",
    "        intermediate_state = conv_encoder(batch_images)\n",
    "        decoded_images = conv_decoder(intermediate_state)\n",
    "        loss_value = tf.losses.mean_squared_error(batch_images, decoded_images)\n",
    "        loss_value += tf.losses.get_regularization_loss()\n",
    "#         print(\"Original mean: \", numpy.mean(batch_images))\n",
    "#         print(\"Output mean: \", numpy.mean(decoded_images.numpy()))\n",
    "    if i % 25 == 0:\n",
    "        test_images, test_labels = generator.next_test_batch(BATCH_SIZE, NUM_DIGITS)\n",
    "        test_images = test_images.reshape([BATCH_SIZE, 28*28*NUM_DIGITS])\n",
    "        val_intermediate_state = conv_encoder(test_images)\n",
    "        val_decoded_images = conv_decoder(intermediate_state)\n",
    "        val_loss_value = tf.losses.mean_squared_error(batch_images, decoded_images)\n",
    "        val_loss_history.append(val_loss_value.numpy())\n",
    "        val_steps.append(i)\n",
    "\n",
    "        # Here we update the plots.  Replot the loss, and show the latest input and output images\n",
    "        ax_loss.set_xlim(0, 1.1*i)\n",
    "        ax_loss.cla()\n",
    "        ax_loss.plot(steps, loss_history, label=\"Train Loss\")\n",
    "        ax_loss.plot(val_steps, val_loss_history, label=\"Test Loss\")\n",
    "        ax_loss.grid(True)\n",
    "        ax_loss.legend(fontsize=25)\n",
    "        \n",
    "        # Display an input image:\n",
    "        ax_input.imshow(batch_images[0].reshape(28, 28*NUM_DIGITS), vmin=0, vmax=1)\n",
    "        \n",
    "        # Display an output image:\n",
    "        ax_output.imshow(decoded_images.numpy()[0].reshape(28, 28*NUM_DIGITS), vmin=0, vmax=1)\n",
    "        \n",
    "        display(fig)\n",
    "        clear_output(wait = True)\n",
    "        plt.pause(0.25)\n",
    "\n",
    "    # Collect the trainable variables as the union of the encoder and decoder variables:\n",
    "    trainable_vars = conv_encoder.trainable_variables + conv_decoder.trainable_variables\n",
    "\n",
    "    \n",
    "    # Update the loss history:\n",
    "    loss_history.append(loss_value.numpy())\n",
    "    steps.append(i)\n",
    "    \n",
    "\n",
    "    # Apply the update to the model:\n",
    "    grads = tape.gradient(loss_value, trainable_vars)\n",
    "    optimizer.apply_gradients(zip(grads, trainable_vars),\n",
    "                             global_step=tf.train.get_or_create_global_step())\n",
    "\n",
    "\n"
   ]
  },
  {
   "cell_type": "markdown",
   "metadata": {},
   "source": [
    "As you see the training progress, you'll notice dramatically different early output is produced as these networks train.  "
   ]
  },
  {
   "cell_type": "code",
   "execution_count": 332,
   "metadata": {},
   "outputs": [],
   "source": [
    "# Before continuing, let's save the models so we can restore them later if we want:\n",
    "conv_encoder.save_weights(\"conv_encoder_{}digits.h5\".format(NUM_DIGITS))\n",
    "conv_decoder.save_weights(\"conv_decoder_{}digits.h5\".format(NUM_DIGITS))"
   ]
  },
  {
   "cell_type": "markdown",
   "metadata": {},
   "source": [
    "## Comparing Autoencoders\n",
    "\n",
    "In the previous examples, we trained two autoencoders to compress hand written digits (0 to 99) into a single, 10-long floating point number per digit. The first network was a standard fully connected neural network, and the second was a much smaller convolutional neural network - about 10x smaller in trainable parameters.\n",
    "\n",
    "Which was better? It's hard to answer that question just from looking at a few output images, and certainly examining the intermediate representation by eye is not useful. Instead we'll try two techniques to measure just \"how good\" the autoencoder/decoder pairs are doing:\n",
    "\n",
    "1) Comparision of Mean Squared Error on validation set\n",
    "\n",
    "2) Comparision of performance of classification network on decoded images"
   ]
  },
  {
   "cell_type": "code",
   "execution_count": 335,
   "metadata": {},
   "outputs": [],
   "source": [
    "# First, load up the a big mnist validation set:\n",
    "\n",
    "test_images, test_labels = generator.next_test_batch(batch_size=100, n_digits=2)\n"
   ]
  },
  {
   "cell_type": "code",
   "execution_count": 338,
   "metadata": {},
   "outputs": [],
   "source": [
    "dense_intermediate_state = encoder(test_images)\n",
    "dense_decoded = decoder(dense_intermediate_state)\n",
    "\n",
    "conv_intermediate_state = conv_encoder(test_images)\n",
    "conv_decoded = conv_decoder(conv_intermediate_state)"
   ]
  },
  {
   "cell_type": "code",
   "execution_count": 339,
   "metadata": {},
   "outputs": [],
   "source": [
    "dense_loss = tf.losses.mean_squared_error(test_images, dense_decoded)\n",
    "conv_loss = tf.losses.mean_squared_error(test_images, conv_decoded)"
   ]
  },
  {
   "cell_type": "code",
   "execution_count": 340,
   "metadata": {},
   "outputs": [
    {
     "name": "stdout",
     "output_type": "stream",
     "text": [
      "Fully connected test loss:  0.024658995\n",
      "Convolutional test loss:  0.026133584\n"
     ]
    }
   ],
   "source": [
    "print(\"Fully connected test loss: \", dense_loss.numpy())\n",
    "print(\"Convolutional test loss: \", conv_loss.numpy())"
   ]
  },
  {
   "cell_type": "markdown",
   "metadata": {},
   "source": [
    "Which is better?  Depending on how the training went, it can be hard to tell.  The pretrained models will tell you that the fully connected model is marginally, but not impactfully, worse."
   ]
  },
  {
   "cell_type": "markdown",
   "metadata": {},
   "source": [
    "Let's look at another comparison.  We'll quickly spin up a classifier for mnist digits and then see how well the decoded data is doing at recreating it's original state by classifying the output of the decoder.\n",
    "\n",
    "Here is an mnist model that can classify the images:"
   ]
  },
  {
   "cell_type": "code",
   "execution_count": 364,
   "metadata": {},
   "outputs": [],
   "source": [
    "class DigitClassifier(tf.keras.models.Model):\n",
    "    '''\n",
    "    Simple mnist N-digit classifier\n",
    "    '''\n",
    "    \n",
    "    def __init__(self, num_digits=2, activation=tf.nn.relu):\n",
    "        tf.keras.models.Model.__init__(self)\n",
    "        self._num_digits = num_digits\n",
    "\n",
    "        # Apply a 5x5 kernel to the image:\n",
    "        self.encoder_layer_1 = tf.keras.layers.Convolution2D(\n",
    "            kernel_size = [5, 5], \n",
    "            filters     = 24,\n",
    "            padding     = \"same\",\n",
    "            activation  = activation,\n",
    "        )\n",
    "        \n",
    "        # Use a 2x2 kernel of stride 2x2 to downsample:\n",
    "        self.pool_1 = tf.keras.layers.MaxPool2D()\n",
    "        \n",
    "        self.encoder_layer_2 = tf.keras.layers.Convolution2D(\n",
    "            kernel_size = [5, 5], \n",
    "            filters     = 64, \n",
    "            padding     = \"same\",\n",
    "            activation  = activation,\n",
    "        )\n",
    "        self.pool_2 = tf.keras.layers.MaxPool2D()\n",
    "\n",
    "        self.encoder_layer_3 = tf.keras.layers.Convolution2D(\n",
    "            kernel_size = [5, 5],\n",
    "            filters     = 128,\n",
    "            padding     = \"same\",\n",
    "            activation  = activation,\n",
    "        )\n",
    "\n",
    "        self.encoder_layer_final = tf.keras.layers.Convolution2D(\n",
    "            kernel_size = [1, 1],\n",
    "            filters     = 10**self._num_digits,\n",
    "            padding     = \"same\",\n",
    "            activation  = None,\n",
    "        )\n",
    "        \n",
    "        self.pool_3 = tf.keras.layers.GlobalAveragePooling2D()\n",
    "\n",
    "\n",
    "        \n",
    "        \n",
    "\n",
    "\n",
    "    def call(self, inputs):\n",
    "        \n",
    "        batch_size = inputs.shape[0]\n",
    "        x = inputs\n",
    "        # Make sure the input is the right shape:\n",
    "        x = tf.reshape(x, [batch_size, 28, 28*self._num_digits, 1])\n",
    "            \n",
    "        x = self.encoder_layer_1(x)\n",
    "        x = self.pool_1(x)\n",
    "        x = self.encoder_layer_2(x)\n",
    "        x = self.pool_2(x)\n",
    "        x = self.encoder_layer_3(x)\n",
    "        x = self.encoder_layer_final(x)\n",
    "        x = self.pool_3(x)\n",
    "        return x\n"
   ]
  },
  {
   "cell_type": "code",
   "execution_count": 365,
   "metadata": {},
   "outputs": [],
   "source": [
    "classifier = DigitClassifier(2)"
   ]
  },
  {
   "cell_type": "code",
   "execution_count": 366,
   "metadata": {},
   "outputs": [
    {
     "name": "stdout",
     "output_type": "stream",
     "text": [
      "_________________________________________________________________\n",
      "Layer (type)                 Output Shape              Param #   \n",
      "=================================================================\n",
      "conv2d_349 (Conv2D)          multiple                  624       \n",
      "_________________________________________________________________\n",
      "max_pooling2d_184 (MaxPoolin multiple                  0         \n",
      "_________________________________________________________________\n",
      "conv2d_350 (Conv2D)          multiple                  38464     \n",
      "_________________________________________________________________\n",
      "max_pooling2d_185 (MaxPoolin multiple                  0         \n",
      "_________________________________________________________________\n",
      "conv2d_351 (Conv2D)          multiple                  204928    \n",
      "_________________________________________________________________\n",
      "conv2d_352 (Conv2D)          multiple                  12900     \n",
      "_________________________________________________________________\n",
      "global_average_pooling2d_5 ( multiple                  0         \n",
      "=================================================================\n",
      "Total params: 256,916\n",
      "Trainable params: 256,916\n",
      "Non-trainable params: 0\n",
      "_________________________________________________________________\n",
      "None\n"
     ]
    }
   ],
   "source": [
    "example_img, example_label = generator.next_test_batch(1,2)\n",
    "classifier(example_img)\n",
    "\n",
    "print(classifier.summary())"
   ]
  },
  {
   "cell_type": "code",
   "execution_count": 367,
   "metadata": {},
   "outputs": [
    {
     "name": "stdout",
     "output_type": "stream",
     "text": [
      "Step 0, loss 4.6038312911987305\n",
      "Step 5, loss 4.61872673034668\n",
      "Step 10, loss 4.606785774230957\n",
      "Step 15, loss 4.605005741119385\n",
      "Step 20, loss 4.60542106628418\n",
      "Step 25, loss 4.604241371154785\n",
      "Step 30, loss 4.605370044708252\n",
      "Step 35, loss 4.602131366729736\n",
      "Step 40, loss 4.599294662475586\n",
      "Step 45, loss 4.602619171142578\n",
      "Step 50, loss 4.597806453704834\n",
      "Step 55, loss 4.590731620788574\n",
      "Step 60, loss 4.561397552490234\n",
      "Step 65, loss 4.531129360198975\n",
      "Step 70, loss 4.4875006675720215\n",
      "Step 75, loss 4.369602680206299\n",
      "Step 80, loss 4.329061985015869\n",
      "Step 85, loss 4.266436576843262\n",
      "Step 90, loss 4.073729038238525\n",
      "Step 95, loss 3.9354870319366455\n",
      "Step 100, loss 3.9879937171936035\n",
      "Step 105, loss 3.8632593154907227\n",
      "Step 110, loss 3.821894645690918\n",
      "Step 115, loss 3.7812600135803223\n",
      "Step 120, loss 3.740978956222534\n",
      "Step 125, loss 3.626908540725708\n",
      "Step 130, loss 3.536175489425659\n",
      "Step 135, loss 3.324336051940918\n",
      "Step 140, loss 3.3042993545532227\n",
      "Step 145, loss 3.1762964725494385\n",
      "Step 150, loss 3.066793441772461\n",
      "Step 155, loss 3.0478122234344482\n",
      "Step 160, loss 3.0412163734436035\n",
      "Step 165, loss 2.9255597591400146\n",
      "Step 170, loss 2.9981298446655273\n",
      "Step 175, loss 2.8144397735595703\n",
      "Step 180, loss 2.7317395210266113\n",
      "Step 185, loss 2.6333301067352295\n",
      "Step 190, loss 2.6780591011047363\n",
      "Step 195, loss 2.569354295730591\n",
      "Step 200, loss 2.6288421154022217\n",
      "Step 205, loss 2.5157041549682617\n",
      "Step 210, loss 2.272128105163574\n",
      "Step 215, loss 2.2794437408447266\n",
      "Step 220, loss 2.218184471130371\n",
      "Step 225, loss 2.3134067058563232\n",
      "Step 230, loss 2.1507608890533447\n",
      "Step 235, loss 2.171750545501709\n",
      "Step 240, loss 2.048799991607666\n",
      "Step 245, loss 2.1163644790649414\n",
      "Step 250, loss 1.982200264930725\n",
      "Step 255, loss 1.7778924703598022\n",
      "Step 260, loss 1.9022035598754883\n",
      "Step 265, loss 1.855181097984314\n",
      "Step 270, loss 1.7729758024215698\n",
      "Step 275, loss 1.7016704082489014\n",
      "Step 280, loss 1.7169758081436157\n",
      "Step 285, loss 1.5946524143218994\n",
      "Step 290, loss 1.7149460315704346\n",
      "Step 295, loss 1.743160605430603\n",
      "Step 300, loss 1.7074741125106812\n",
      "Step 305, loss 1.7212936878204346\n",
      "Step 310, loss 1.6042903661727905\n",
      "Step 315, loss 1.4042448997497559\n",
      "Step 320, loss 1.5296533107757568\n",
      "Step 325, loss 1.4009360074996948\n",
      "Step 330, loss 1.2731924057006836\n",
      "Step 335, loss 1.405617356300354\n",
      "Step 340, loss 1.3920724391937256\n",
      "Step 345, loss 1.4033780097961426\n",
      "Step 350, loss 1.413508653640747\n",
      "Step 355, loss 1.247012734413147\n",
      "Step 360, loss 1.2279661893844604\n",
      "Step 365, loss 1.1681580543518066\n",
      "Step 370, loss 1.273479700088501\n",
      "Step 375, loss 1.2255380153656006\n",
      "Step 380, loss 1.1921452283859253\n",
      "Step 385, loss 1.0442252159118652\n",
      "Step 390, loss 1.3784981966018677\n",
      "Step 395, loss 1.1974045038223267\n",
      "Step 400, loss 1.0791041851043701\n",
      "Step 405, loss 1.0836368799209595\n",
      "Step 410, loss 1.1826467514038086\n",
      "Step 415, loss 0.9549906849861145\n",
      "Step 420, loss 1.089491605758667\n",
      "Step 425, loss 1.0564488172531128\n",
      "Step 430, loss 0.8762968182563782\n",
      "Step 435, loss 1.087854027748108\n",
      "Step 440, loss 1.0670100450515747\n",
      "Step 445, loss 1.0656611919403076\n",
      "Step 450, loss 1.2763123512268066\n",
      "Step 455, loss 1.027332067489624\n",
      "Step 460, loss 0.9878201484680176\n",
      "Step 465, loss 0.8941136002540588\n",
      "Step 470, loss 0.9831109642982483\n",
      "Step 475, loss 0.9200881719589233\n",
      "Step 480, loss 0.8784223198890686\n",
      "Step 485, loss 0.905331015586853\n",
      "Step 490, loss 0.8668628931045532\n",
      "Step 495, loss 0.9679474830627441\n",
      "Step 500, loss 0.773059070110321\n",
      "Step 505, loss 0.9436439275741577\n",
      "Step 510, loss 0.8425232172012329\n",
      "Step 515, loss 0.7807682752609253\n",
      "Step 520, loss 0.846538245677948\n",
      "Step 525, loss 0.8606765866279602\n",
      "Step 530, loss 1.0696736574172974\n",
      "Step 535, loss 0.9971511960029602\n",
      "Step 540, loss 1.0093978643417358\n",
      "Step 545, loss 0.8079749345779419\n",
      "Step 550, loss 1.132906198501587\n",
      "Step 555, loss 0.7764407396316528\n",
      "Step 560, loss 0.7760604619979858\n",
      "Step 565, loss 0.6473216414451599\n",
      "Step 570, loss 0.6669270396232605\n",
      "Step 575, loss 0.801898181438446\n",
      "Step 580, loss 0.6982094049453735\n",
      "Step 585, loss 0.8055305480957031\n",
      "Step 590, loss 0.6755461096763611\n",
      "Step 595, loss 0.9206677079200745\n",
      "Step 600, loss 0.783612847328186\n",
      "Step 605, loss 0.7416691780090332\n",
      "Step 610, loss 0.5808666348457336\n",
      "Step 615, loss 0.7433122992515564\n",
      "Step 620, loss 0.757143497467041\n",
      "Step 625, loss 0.7115238904953003\n",
      "Step 630, loss 0.7674789428710938\n",
      "Step 635, loss 0.7955868244171143\n",
      "Step 640, loss 0.7331317067146301\n",
      "Step 645, loss 0.61871737241745\n",
      "Step 650, loss 0.6571004986763\n",
      "Step 655, loss 0.6685659289360046\n",
      "Step 660, loss 0.605950653553009\n",
      "Step 665, loss 0.6038339734077454\n",
      "Step 670, loss 0.597795844078064\n",
      "Step 675, loss 0.8105810284614563\n",
      "Step 680, loss 0.5762438774108887\n",
      "Step 685, loss 0.6422431468963623\n",
      "Step 690, loss 0.5786480903625488\n",
      "Step 695, loss 0.6327019333839417\n",
      "Step 700, loss 0.7086724638938904\n",
      "Step 705, loss 0.4889758229255676\n",
      "Step 710, loss 0.6244582533836365\n",
      "Step 715, loss 0.5807254910469055\n",
      "Step 720, loss 0.6036655902862549\n",
      "Step 725, loss 0.4297327697277069\n",
      "Step 730, loss 0.5637457966804504\n",
      "Step 735, loss 0.6801047325134277\n",
      "Step 740, loss 0.5079496502876282\n",
      "Step 745, loss 0.733629584312439\n"
     ]
    },
    {
     "ename": "KeyboardInterrupt",
     "evalue": "",
     "output_type": "error",
     "traceback": [
      "\u001b[0;31m---------------------------------------------------------------------------\u001b[0m",
      "\u001b[0;31mKeyboardInterrupt\u001b[0m                         Traceback (most recent call last)",
      "\u001b[0;32m<ipython-input-367-412aae11ce88>\u001b[0m in \u001b[0;36m<module>\u001b[0;34m\u001b[0m\n\u001b[1;32m     26\u001b[0m \u001b[0;34m\u001b[0m\u001b[0m\n\u001b[1;32m     27\u001b[0m         \u001b[0;31m# Apply the update to the model:\u001b[0m\u001b[0;34m\u001b[0m\u001b[0;34m\u001b[0m\u001b[0;34m\u001b[0m\u001b[0m\n\u001b[0;32m---> 28\u001b[0;31m         \u001b[0mgrads\u001b[0m \u001b[0;34m=\u001b[0m \u001b[0mtape\u001b[0m\u001b[0;34m.\u001b[0m\u001b[0mgradient\u001b[0m\u001b[0;34m(\u001b[0m\u001b[0mloss_value\u001b[0m\u001b[0;34m,\u001b[0m \u001b[0mtrainable_vars\u001b[0m\u001b[0;34m)\u001b[0m\u001b[0;34m\u001b[0m\u001b[0;34m\u001b[0m\u001b[0m\n\u001b[0m\u001b[1;32m     29\u001b[0m         optimizer.apply_gradients(zip(grads, trainable_vars),\n\u001b[1;32m     30\u001b[0m                                  global_step=tf.train.get_or_create_global_step())\n",
      "\u001b[0;32m~/Library/Python/3.6/lib/python/site-packages/tensorflow/python/eager/backprop.py\u001b[0m in \u001b[0;36mgradient\u001b[0;34m(self, target, sources, output_gradients, unconnected_gradients)\u001b[0m\n\u001b[1;32m    944\u001b[0m         \u001b[0mflat_sources\u001b[0m\u001b[0;34m,\u001b[0m\u001b[0;34m\u001b[0m\u001b[0;34m\u001b[0m\u001b[0m\n\u001b[1;32m    945\u001b[0m         \u001b[0moutput_gradients\u001b[0m\u001b[0;34m=\u001b[0m\u001b[0moutput_gradients\u001b[0m\u001b[0;34m,\u001b[0m\u001b[0;34m\u001b[0m\u001b[0;34m\u001b[0m\u001b[0m\n\u001b[0;32m--> 946\u001b[0;31m         unconnected_gradients=unconnected_gradients)\n\u001b[0m\u001b[1;32m    947\u001b[0m \u001b[0;34m\u001b[0m\u001b[0m\n\u001b[1;32m    948\u001b[0m     \u001b[0;32mif\u001b[0m \u001b[0;32mnot\u001b[0m \u001b[0mself\u001b[0m\u001b[0;34m.\u001b[0m\u001b[0m_persistent\u001b[0m\u001b[0;34m:\u001b[0m\u001b[0;34m\u001b[0m\u001b[0;34m\u001b[0m\u001b[0m\n",
      "\u001b[0;32m~/Library/Python/3.6/lib/python/site-packages/tensorflow/python/eager/imperative_grad.py\u001b[0m in \u001b[0;36mimperative_grad\u001b[0;34m(tape, target, sources, output_gradients, unconnected_gradients)\u001b[0m\n\u001b[1;32m     70\u001b[0m       \u001b[0msources\u001b[0m\u001b[0;34m,\u001b[0m\u001b[0;34m\u001b[0m\u001b[0;34m\u001b[0m\u001b[0m\n\u001b[1;32m     71\u001b[0m       \u001b[0moutput_gradients\u001b[0m\u001b[0;34m,\u001b[0m\u001b[0;34m\u001b[0m\u001b[0;34m\u001b[0m\u001b[0m\n\u001b[0;32m---> 72\u001b[0;31m       compat.as_str(unconnected_gradients.value))\n\u001b[0m",
      "\u001b[0;32m~/Library/Python/3.6/lib/python/site-packages/tensorflow/python/eager/backprop.py\u001b[0m in \u001b[0;36m_gradient_function\u001b[0;34m(op_name, attr_tuple, num_inputs, inputs, outputs, out_grads)\u001b[0m\n\u001b[1;32m    129\u001b[0m     \u001b[0;32mreturn\u001b[0m \u001b[0;34m[\u001b[0m\u001b[0;32mNone\u001b[0m\u001b[0;34m]\u001b[0m \u001b[0;34m*\u001b[0m \u001b[0mnum_inputs\u001b[0m\u001b[0;34m\u001b[0m\u001b[0;34m\u001b[0m\u001b[0m\n\u001b[1;32m    130\u001b[0m \u001b[0;34m\u001b[0m\u001b[0m\n\u001b[0;32m--> 131\u001b[0;31m   \u001b[0;32mreturn\u001b[0m \u001b[0mgrad_fn\u001b[0m\u001b[0;34m(\u001b[0m\u001b[0mmock_op\u001b[0m\u001b[0;34m,\u001b[0m \u001b[0;34m*\u001b[0m\u001b[0mout_grads\u001b[0m\u001b[0;34m)\u001b[0m\u001b[0;34m\u001b[0m\u001b[0;34m\u001b[0m\u001b[0m\n\u001b[0m\u001b[1;32m    132\u001b[0m \u001b[0;34m\u001b[0m\u001b[0m\n\u001b[1;32m    133\u001b[0m \u001b[0;34m\u001b[0m\u001b[0m\n",
      "\u001b[0;32m~/Library/Python/3.6/lib/python/site-packages/tensorflow/python/ops/nn_grad.py\u001b[0m in \u001b[0;36m_Conv2DGrad\u001b[0;34m(op, grad)\u001b[0m\n\u001b[1;32m    539\u001b[0m           \u001b[0mpadding\u001b[0m\u001b[0;34m=\u001b[0m\u001b[0mpadding\u001b[0m\u001b[0;34m,\u001b[0m\u001b[0;34m\u001b[0m\u001b[0;34m\u001b[0m\u001b[0m\n\u001b[1;32m    540\u001b[0m           \u001b[0muse_cudnn_on_gpu\u001b[0m\u001b[0;34m=\u001b[0m\u001b[0muse_cudnn_on_gpu\u001b[0m\u001b[0;34m,\u001b[0m\u001b[0;34m\u001b[0m\u001b[0;34m\u001b[0m\u001b[0m\n\u001b[0;32m--> 541\u001b[0;31m           data_format=data_format)\n\u001b[0m\u001b[1;32m    542\u001b[0m   ]\n\u001b[1;32m    543\u001b[0m \u001b[0;34m\u001b[0m\u001b[0m\n",
      "\u001b[0;32m~/Library/Python/3.6/lib/python/site-packages/tensorflow/python/ops/gen_nn_ops.py\u001b[0m in \u001b[0;36mconv2d_backprop_filter\u001b[0;34m(input, filter_sizes, out_backprop, strides, padding, use_cudnn_on_gpu, data_format, dilations, name)\u001b[0m\n\u001b[1;32m   1122\u001b[0m         \u001b[0mfilter_sizes\u001b[0m\u001b[0;34m,\u001b[0m \u001b[0mout_backprop\u001b[0m\u001b[0;34m,\u001b[0m \u001b[0;34m\"strides\"\u001b[0m\u001b[0;34m,\u001b[0m \u001b[0mstrides\u001b[0m\u001b[0;34m,\u001b[0m \u001b[0;34m\"use_cudnn_on_gpu\"\u001b[0m\u001b[0;34m,\u001b[0m\u001b[0;34m\u001b[0m\u001b[0;34m\u001b[0m\u001b[0m\n\u001b[1;32m   1123\u001b[0m         \u001b[0muse_cudnn_on_gpu\u001b[0m\u001b[0;34m,\u001b[0m \u001b[0;34m\"padding\"\u001b[0m\u001b[0;34m,\u001b[0m \u001b[0mpadding\u001b[0m\u001b[0;34m,\u001b[0m \u001b[0;34m\"data_format\"\u001b[0m\u001b[0;34m,\u001b[0m \u001b[0mdata_format\u001b[0m\u001b[0;34m,\u001b[0m\u001b[0;34m\u001b[0m\u001b[0;34m\u001b[0m\u001b[0m\n\u001b[0;32m-> 1124\u001b[0;31m         \"dilations\", dilations)\n\u001b[0m\u001b[1;32m   1125\u001b[0m       \u001b[0;32mreturn\u001b[0m \u001b[0m_result\u001b[0m\u001b[0;34m\u001b[0m\u001b[0;34m\u001b[0m\u001b[0m\n\u001b[1;32m   1126\u001b[0m     \u001b[0;32mexcept\u001b[0m \u001b[0m_core\u001b[0m\u001b[0;34m.\u001b[0m\u001b[0m_FallbackException\u001b[0m\u001b[0;34m:\u001b[0m\u001b[0;34m\u001b[0m\u001b[0;34m\u001b[0m\u001b[0m\n",
      "\u001b[0;31mKeyboardInterrupt\u001b[0m: "
     ]
    }
   ],
   "source": [
    "TRAIN_CLASSIFIER = True\n",
    "if TRAIN_CLASSIFIER:\n",
    "    N_TRAINING_ITERATION = 1500\n",
    "    BATCH_SIZE = 200\n",
    "\n",
    "    optimizer = tf.train.AdamOptimizer()\n",
    "\n",
    "    loss_history = []\n",
    "    val_loss_history = []\n",
    "    val_steps = []\n",
    "\n",
    "    for i in range(N_TRAINING_ITERATION):\n",
    "\n",
    "        # Load some data:\n",
    "        training_batch_images, training_batch_labels = generator.next_train_batch(BATCH_SIZE, NUM_DIGITS)\n",
    "\n",
    "        with tf.GradientTape() as tape:\n",
    "            logits = classifier(training_batch_images)\n",
    "            loss_value = tf.losses.sparse_softmax_cross_entropy(training_batch_labels, logits)\n",
    "\n",
    "\n",
    "        trainable_vars = classifier.trainable_variables\n",
    "\n",
    "\n",
    "        loss_history.append(loss_value.numpy())\n",
    "\n",
    "        # Apply the update to the model:\n",
    "        grads = tape.gradient(loss_value, trainable_vars)\n",
    "        optimizer.apply_gradients(zip(grads, trainable_vars),\n",
    "                                 global_step=tf.train.get_or_create_global_step())\n",
    "\n",
    "        if i % 5 == 0:\n",
    "            print(\"Step {}, loss {}\".format(i, loss_history[-1]))\n",
    "else:\n",
    "    training_batch_images, training_batch_labels = generator.next_train_batch(1, NUM_DIGITS)\n",
    "#     logits = model(batch_images.reshape(1, 28, 28, 1))\n",
    "    classifier.load_weights(MODEL_PREFIX + \"mnist_classifier.h5\")"
   ]
  },
  {
   "cell_type": "markdown",
   "metadata": {},
   "source": [
    "Ok, let's run this classifier on the test images:"
   ]
  },
  {
   "cell_type": "code",
   "execution_count": 371,
   "metadata": {},
   "outputs": [],
   "source": [
    "predictions = classifier(test_images)"
   ]
  },
  {
   "cell_type": "markdown",
   "metadata": {},
   "source": [
    "We have the decoded versions of the validation sets for both the fully connected and convolutional networks.  Let's run our classifier on the original images, the decoded images, and compare the accuracies for both as well as the \"recall\" ability (as judged by our classifier) to produce the same digit after the encoder/decoder pass:\n"
   ]
  },
  {
   "cell_type": "code",
   "execution_count": 375,
   "metadata": {},
   "outputs": [
    {
     "name": "stdout",
     "output_type": "stream",
     "text": [
      "Average accuracy on test set:  0.86\n"
     ]
    }
   ],
   "source": [
    "print(\"Average accuracy on test set: \", numpy.mean(test_labels == numpy.argmax(predictions,axis=-1)))"
   ]
  },
  {
   "cell_type": "markdown",
   "metadata": {},
   "source": [
    "Ok, let's encode and decode the test set and see how the accuracy changes:\n"
   ]
  },
  {
   "cell_type": "code",
   "execution_count": 378,
   "metadata": {},
   "outputs": [],
   "source": [
    "dense_decoded_test_set = decoder(encoder(test_images))\n",
    "conv_decoded_test_set  = conv_decoder(conv_encoder(test_images))"
   ]
  },
  {
   "cell_type": "code",
   "execution_count": 380,
   "metadata": {},
   "outputs": [
    {
     "ename": "ValueError",
     "evalue": "Incompatible type conversion requested to type 'float32' for variable of type 'float64'",
     "output_type": "error",
     "traceback": [
      "\u001b[0;31m---------------------------------------------------------------------------\u001b[0m",
      "\u001b[0;31m_FallbackException\u001b[0m                        Traceback (most recent call last)",
      "\u001b[0;32m~/Library/Python/3.6/lib/python/site-packages/tensorflow/python/ops/gen_nn_ops.py\u001b[0m in \u001b[0;36mconv2d\u001b[0;34m(input, filter, strides, padding, use_cudnn_on_gpu, data_format, dilations, name)\u001b[0m\n\u001b[1;32m    986\u001b[0m         \u001b[0;34m\"use_cudnn_on_gpu\"\u001b[0m\u001b[0;34m,\u001b[0m \u001b[0muse_cudnn_on_gpu\u001b[0m\u001b[0;34m,\u001b[0m \u001b[0;34m\"padding\"\u001b[0m\u001b[0;34m,\u001b[0m \u001b[0mpadding\u001b[0m\u001b[0;34m,\u001b[0m\u001b[0;34m\u001b[0m\u001b[0;34m\u001b[0m\u001b[0m\n\u001b[0;32m--> 987\u001b[0;31m         \"data_format\", data_format, \"dilations\", dilations)\n\u001b[0m\u001b[1;32m    988\u001b[0m       \u001b[0;32mreturn\u001b[0m \u001b[0m_result\u001b[0m\u001b[0;34m\u001b[0m\u001b[0;34m\u001b[0m\u001b[0m\n",
      "\u001b[0;31m_FallbackException\u001b[0m: Expecting int64_t value for attr strides, got numpy.int32",
      "\nDuring handling of the above exception, another exception occurred:\n",
      "\u001b[0;31mValueError\u001b[0m                                Traceback (most recent call last)",
      "\u001b[0;32m<ipython-input-380-b60200c65fa1>\u001b[0m in \u001b[0;36m<module>\u001b[0;34m\u001b[0m\n\u001b[1;32m      1\u001b[0m \u001b[0mdense_decoded_predictions\u001b[0m \u001b[0;34m=\u001b[0m \u001b[0mclassifier\u001b[0m\u001b[0;34m(\u001b[0m\u001b[0mdense_decoded_test_set\u001b[0m\u001b[0;34m)\u001b[0m\u001b[0;34m\u001b[0m\u001b[0;34m\u001b[0m\u001b[0m\n\u001b[0;32m----> 2\u001b[0;31m \u001b[0mconv_decoded_predictions\u001b[0m  \u001b[0;34m=\u001b[0m \u001b[0mclassifier\u001b[0m\u001b[0;34m(\u001b[0m\u001b[0mconv_decoded_test_set\u001b[0m\u001b[0;34m)\u001b[0m\u001b[0;34m\u001b[0m\u001b[0;34m\u001b[0m\u001b[0m\n\u001b[0m",
      "\u001b[0;32m~/Library/Python/3.6/lib/python/site-packages/tensorflow/python/keras/engine/base_layer.py\u001b[0m in \u001b[0;36m__call__\u001b[0;34m(self, inputs, *args, **kwargs)\u001b[0m\n\u001b[1;32m    590\u001b[0m       \u001b[0;32melse\u001b[0m\u001b[0;34m:\u001b[0m\u001b[0;34m\u001b[0m\u001b[0;34m\u001b[0m\u001b[0m\n\u001b[1;32m    591\u001b[0m         \u001b[0;31m# Eager execution on data tensors.\u001b[0m\u001b[0;34m\u001b[0m\u001b[0;34m\u001b[0m\u001b[0;34m\u001b[0m\u001b[0m\n\u001b[0;32m--> 592\u001b[0;31m         \u001b[0moutputs\u001b[0m \u001b[0;34m=\u001b[0m \u001b[0mself\u001b[0m\u001b[0;34m.\u001b[0m\u001b[0mcall\u001b[0m\u001b[0;34m(\u001b[0m\u001b[0minputs\u001b[0m\u001b[0;34m,\u001b[0m \u001b[0;34m*\u001b[0m\u001b[0margs\u001b[0m\u001b[0;34m,\u001b[0m \u001b[0;34m**\u001b[0m\u001b[0mkwargs\u001b[0m\u001b[0;34m)\u001b[0m\u001b[0;34m\u001b[0m\u001b[0;34m\u001b[0m\u001b[0m\n\u001b[0m\u001b[1;32m    593\u001b[0m         \u001b[0mself\u001b[0m\u001b[0;34m.\u001b[0m\u001b[0m_handle_activity_regularization\u001b[0m\u001b[0;34m(\u001b[0m\u001b[0minputs\u001b[0m\u001b[0;34m,\u001b[0m \u001b[0moutputs\u001b[0m\u001b[0;34m)\u001b[0m\u001b[0;34m\u001b[0m\u001b[0;34m\u001b[0m\u001b[0m\n\u001b[1;32m    594\u001b[0m         \u001b[0;32mreturn\u001b[0m \u001b[0moutputs\u001b[0m\u001b[0;34m\u001b[0m\u001b[0;34m\u001b[0m\u001b[0m\n",
      "\u001b[0;32m<ipython-input-364-dcb7514c495b>\u001b[0m in \u001b[0;36mcall\u001b[0;34m(self, inputs)\u001b[0m\n\u001b[1;32m     55\u001b[0m         \u001b[0mx\u001b[0m \u001b[0;34m=\u001b[0m \u001b[0mtf\u001b[0m\u001b[0;34m.\u001b[0m\u001b[0mreshape\u001b[0m\u001b[0;34m(\u001b[0m\u001b[0mx\u001b[0m\u001b[0;34m,\u001b[0m \u001b[0;34m[\u001b[0m\u001b[0mbatch_size\u001b[0m\u001b[0;34m,\u001b[0m \u001b[0;36m28\u001b[0m\u001b[0;34m,\u001b[0m \u001b[0;36m28\u001b[0m\u001b[0;34m*\u001b[0m\u001b[0mself\u001b[0m\u001b[0;34m.\u001b[0m\u001b[0m_num_digits\u001b[0m\u001b[0;34m,\u001b[0m \u001b[0;36m1\u001b[0m\u001b[0;34m]\u001b[0m\u001b[0;34m)\u001b[0m\u001b[0;34m\u001b[0m\u001b[0;34m\u001b[0m\u001b[0m\n\u001b[1;32m     56\u001b[0m \u001b[0;34m\u001b[0m\u001b[0m\n\u001b[0;32m---> 57\u001b[0;31m         \u001b[0mx\u001b[0m \u001b[0;34m=\u001b[0m \u001b[0mself\u001b[0m\u001b[0;34m.\u001b[0m\u001b[0mencoder_layer_1\u001b[0m\u001b[0;34m(\u001b[0m\u001b[0mx\u001b[0m\u001b[0;34m)\u001b[0m\u001b[0;34m\u001b[0m\u001b[0;34m\u001b[0m\u001b[0m\n\u001b[0m\u001b[1;32m     58\u001b[0m         \u001b[0mx\u001b[0m \u001b[0;34m=\u001b[0m \u001b[0mself\u001b[0m\u001b[0;34m.\u001b[0m\u001b[0mpool_1\u001b[0m\u001b[0;34m(\u001b[0m\u001b[0mx\u001b[0m\u001b[0;34m)\u001b[0m\u001b[0;34m\u001b[0m\u001b[0;34m\u001b[0m\u001b[0m\n\u001b[1;32m     59\u001b[0m         \u001b[0mx\u001b[0m \u001b[0;34m=\u001b[0m \u001b[0mself\u001b[0m\u001b[0;34m.\u001b[0m\u001b[0mencoder_layer_2\u001b[0m\u001b[0;34m(\u001b[0m\u001b[0mx\u001b[0m\u001b[0;34m)\u001b[0m\u001b[0;34m\u001b[0m\u001b[0;34m\u001b[0m\u001b[0m\n",
      "\u001b[0;32m~/Library/Python/3.6/lib/python/site-packages/tensorflow/python/keras/engine/base_layer.py\u001b[0m in \u001b[0;36m__call__\u001b[0;34m(self, inputs, *args, **kwargs)\u001b[0m\n\u001b[1;32m    590\u001b[0m       \u001b[0;32melse\u001b[0m\u001b[0;34m:\u001b[0m\u001b[0;34m\u001b[0m\u001b[0;34m\u001b[0m\u001b[0m\n\u001b[1;32m    591\u001b[0m         \u001b[0;31m# Eager execution on data tensors.\u001b[0m\u001b[0;34m\u001b[0m\u001b[0;34m\u001b[0m\u001b[0;34m\u001b[0m\u001b[0m\n\u001b[0;32m--> 592\u001b[0;31m         \u001b[0moutputs\u001b[0m \u001b[0;34m=\u001b[0m \u001b[0mself\u001b[0m\u001b[0;34m.\u001b[0m\u001b[0mcall\u001b[0m\u001b[0;34m(\u001b[0m\u001b[0minputs\u001b[0m\u001b[0;34m,\u001b[0m \u001b[0;34m*\u001b[0m\u001b[0margs\u001b[0m\u001b[0;34m,\u001b[0m \u001b[0;34m**\u001b[0m\u001b[0mkwargs\u001b[0m\u001b[0;34m)\u001b[0m\u001b[0;34m\u001b[0m\u001b[0;34m\u001b[0m\u001b[0m\n\u001b[0m\u001b[1;32m    593\u001b[0m         \u001b[0mself\u001b[0m\u001b[0;34m.\u001b[0m\u001b[0m_handle_activity_regularization\u001b[0m\u001b[0;34m(\u001b[0m\u001b[0minputs\u001b[0m\u001b[0;34m,\u001b[0m \u001b[0moutputs\u001b[0m\u001b[0;34m)\u001b[0m\u001b[0;34m\u001b[0m\u001b[0;34m\u001b[0m\u001b[0m\n\u001b[1;32m    594\u001b[0m         \u001b[0;32mreturn\u001b[0m \u001b[0moutputs\u001b[0m\u001b[0;34m\u001b[0m\u001b[0;34m\u001b[0m\u001b[0m\n",
      "\u001b[0;32m~/Library/Python/3.6/lib/python/site-packages/tensorflow/python/keras/layers/convolutional.py\u001b[0m in \u001b[0;36mcall\u001b[0;34m(self, inputs)\u001b[0m\n\u001b[1;32m    192\u001b[0m \u001b[0;34m\u001b[0m\u001b[0m\n\u001b[1;32m    193\u001b[0m   \u001b[0;32mdef\u001b[0m \u001b[0mcall\u001b[0m\u001b[0;34m(\u001b[0m\u001b[0mself\u001b[0m\u001b[0;34m,\u001b[0m \u001b[0minputs\u001b[0m\u001b[0;34m)\u001b[0m\u001b[0;34m:\u001b[0m\u001b[0;34m\u001b[0m\u001b[0;34m\u001b[0m\u001b[0m\n\u001b[0;32m--> 194\u001b[0;31m     \u001b[0moutputs\u001b[0m \u001b[0;34m=\u001b[0m \u001b[0mself\u001b[0m\u001b[0;34m.\u001b[0m\u001b[0m_convolution_op\u001b[0m\u001b[0;34m(\u001b[0m\u001b[0minputs\u001b[0m\u001b[0;34m,\u001b[0m \u001b[0mself\u001b[0m\u001b[0;34m.\u001b[0m\u001b[0mkernel\u001b[0m\u001b[0;34m)\u001b[0m\u001b[0;34m\u001b[0m\u001b[0;34m\u001b[0m\u001b[0m\n\u001b[0m\u001b[1;32m    195\u001b[0m \u001b[0;34m\u001b[0m\u001b[0m\n\u001b[1;32m    196\u001b[0m     \u001b[0;32mif\u001b[0m \u001b[0mself\u001b[0m\u001b[0;34m.\u001b[0m\u001b[0muse_bias\u001b[0m\u001b[0;34m:\u001b[0m\u001b[0;34m\u001b[0m\u001b[0;34m\u001b[0m\u001b[0m\n",
      "\u001b[0;32m~/Library/Python/3.6/lib/python/site-packages/tensorflow/python/ops/nn_ops.py\u001b[0m in \u001b[0;36m__call__\u001b[0;34m(self, inp, filter)\u001b[0m\n\u001b[1;32m    964\u001b[0m \u001b[0;34m\u001b[0m\u001b[0m\n\u001b[1;32m    965\u001b[0m   \u001b[0;32mdef\u001b[0m \u001b[0m__call__\u001b[0m\u001b[0;34m(\u001b[0m\u001b[0mself\u001b[0m\u001b[0;34m,\u001b[0m \u001b[0minp\u001b[0m\u001b[0;34m,\u001b[0m \u001b[0mfilter\u001b[0m\u001b[0;34m)\u001b[0m\u001b[0;34m:\u001b[0m  \u001b[0;31m# pylint: disable=redefined-builtin\u001b[0m\u001b[0;34m\u001b[0m\u001b[0;34m\u001b[0m\u001b[0m\n\u001b[0;32m--> 966\u001b[0;31m     \u001b[0;32mreturn\u001b[0m \u001b[0mself\u001b[0m\u001b[0;34m.\u001b[0m\u001b[0mconv_op\u001b[0m\u001b[0;34m(\u001b[0m\u001b[0minp\u001b[0m\u001b[0;34m,\u001b[0m \u001b[0mfilter\u001b[0m\u001b[0;34m)\u001b[0m\u001b[0;34m\u001b[0m\u001b[0;34m\u001b[0m\u001b[0m\n\u001b[0m\u001b[1;32m    967\u001b[0m \u001b[0;34m\u001b[0m\u001b[0m\n\u001b[1;32m    968\u001b[0m \u001b[0;34m\u001b[0m\u001b[0m\n",
      "\u001b[0;32m~/Library/Python/3.6/lib/python/site-packages/tensorflow/python/ops/nn_ops.py\u001b[0m in \u001b[0;36m__call__\u001b[0;34m(self, inp, filter)\u001b[0m\n\u001b[1;32m    589\u001b[0m \u001b[0;34m\u001b[0m\u001b[0m\n\u001b[1;32m    590\u001b[0m   \u001b[0;32mdef\u001b[0m \u001b[0m__call__\u001b[0m\u001b[0;34m(\u001b[0m\u001b[0mself\u001b[0m\u001b[0;34m,\u001b[0m \u001b[0minp\u001b[0m\u001b[0;34m,\u001b[0m \u001b[0mfilter\u001b[0m\u001b[0;34m)\u001b[0m\u001b[0;34m:\u001b[0m  \u001b[0;31m# pylint: disable=redefined-builtin\u001b[0m\u001b[0;34m\u001b[0m\u001b[0;34m\u001b[0m\u001b[0m\n\u001b[0;32m--> 591\u001b[0;31m     \u001b[0;32mreturn\u001b[0m \u001b[0mself\u001b[0m\u001b[0;34m.\u001b[0m\u001b[0mcall\u001b[0m\u001b[0;34m(\u001b[0m\u001b[0minp\u001b[0m\u001b[0;34m,\u001b[0m \u001b[0mfilter\u001b[0m\u001b[0;34m)\u001b[0m\u001b[0;34m\u001b[0m\u001b[0;34m\u001b[0m\u001b[0m\n\u001b[0m\u001b[1;32m    592\u001b[0m \u001b[0;34m\u001b[0m\u001b[0m\n\u001b[1;32m    593\u001b[0m \u001b[0;34m\u001b[0m\u001b[0m\n",
      "\u001b[0;32m~/Library/Python/3.6/lib/python/site-packages/tensorflow/python/ops/nn_ops.py\u001b[0m in \u001b[0;36m__call__\u001b[0;34m(self, inp, filter)\u001b[0m\n\u001b[1;32m    206\u001b[0m         \u001b[0mpadding\u001b[0m\u001b[0;34m=\u001b[0m\u001b[0mself\u001b[0m\u001b[0;34m.\u001b[0m\u001b[0mpadding\u001b[0m\u001b[0;34m,\u001b[0m\u001b[0;34m\u001b[0m\u001b[0;34m\u001b[0m\u001b[0m\n\u001b[1;32m    207\u001b[0m         \u001b[0mdata_format\u001b[0m\u001b[0;34m=\u001b[0m\u001b[0mself\u001b[0m\u001b[0;34m.\u001b[0m\u001b[0mdata_format\u001b[0m\u001b[0;34m,\u001b[0m\u001b[0;34m\u001b[0m\u001b[0;34m\u001b[0m\u001b[0m\n\u001b[0;32m--> 208\u001b[0;31m         name=self.name)\n\u001b[0m\u001b[1;32m    209\u001b[0m \u001b[0;34m\u001b[0m\u001b[0m\n\u001b[1;32m    210\u001b[0m \u001b[0;34m\u001b[0m\u001b[0m\n",
      "\u001b[0;32m~/Library/Python/3.6/lib/python/site-packages/tensorflow/python/ops/gen_nn_ops.py\u001b[0m in \u001b[0;36mconv2d\u001b[0;34m(input, filter, strides, padding, use_cudnn_on_gpu, data_format, dilations, name)\u001b[0m\n\u001b[1;32m    992\u001b[0m             \u001b[0minput\u001b[0m\u001b[0;34m,\u001b[0m \u001b[0mfilter\u001b[0m\u001b[0;34m,\u001b[0m \u001b[0mstrides\u001b[0m\u001b[0;34m=\u001b[0m\u001b[0mstrides\u001b[0m\u001b[0;34m,\u001b[0m \u001b[0muse_cudnn_on_gpu\u001b[0m\u001b[0;34m=\u001b[0m\u001b[0muse_cudnn_on_gpu\u001b[0m\u001b[0;34m,\u001b[0m\u001b[0;34m\u001b[0m\u001b[0;34m\u001b[0m\u001b[0m\n\u001b[1;32m    993\u001b[0m             \u001b[0mpadding\u001b[0m\u001b[0;34m=\u001b[0m\u001b[0mpadding\u001b[0m\u001b[0;34m,\u001b[0m \u001b[0mdata_format\u001b[0m\u001b[0;34m=\u001b[0m\u001b[0mdata_format\u001b[0m\u001b[0;34m,\u001b[0m \u001b[0mdilations\u001b[0m\u001b[0;34m=\u001b[0m\u001b[0mdilations\u001b[0m\u001b[0;34m,\u001b[0m\u001b[0;34m\u001b[0m\u001b[0;34m\u001b[0m\u001b[0m\n\u001b[0;32m--> 994\u001b[0;31m             name=name, ctx=_ctx)\n\u001b[0m\u001b[1;32m    995\u001b[0m       \u001b[0;32mexcept\u001b[0m \u001b[0m_core\u001b[0m\u001b[0;34m.\u001b[0m\u001b[0m_SymbolicException\u001b[0m\u001b[0;34m:\u001b[0m\u001b[0;34m\u001b[0m\u001b[0;34m\u001b[0m\u001b[0m\n\u001b[1;32m    996\u001b[0m         \u001b[0;32mpass\u001b[0m  \u001b[0;31m# Add nodes to the TensorFlow graph.\u001b[0m\u001b[0;34m\u001b[0m\u001b[0;34m\u001b[0m\u001b[0m\n",
      "\u001b[0;32m~/Library/Python/3.6/lib/python/site-packages/tensorflow/python/ops/gen_nn_ops.py\u001b[0m in \u001b[0;36mconv2d_eager_fallback\u001b[0;34m(input, filter, strides, padding, use_cudnn_on_gpu, data_format, dilations, name, ctx)\u001b[0m\n\u001b[1;32m   1063\u001b[0m         \"'conv2d' Op, not %r.\" % dilations)\n\u001b[1;32m   1064\u001b[0m   \u001b[0mdilations\u001b[0m \u001b[0;34m=\u001b[0m \u001b[0;34m[\u001b[0m\u001b[0m_execute\u001b[0m\u001b[0;34m.\u001b[0m\u001b[0mmake_int\u001b[0m\u001b[0;34m(\u001b[0m\u001b[0m_i\u001b[0m\u001b[0;34m,\u001b[0m \u001b[0;34m\"dilations\"\u001b[0m\u001b[0;34m)\u001b[0m \u001b[0;32mfor\u001b[0m \u001b[0m_i\u001b[0m \u001b[0;32min\u001b[0m \u001b[0mdilations\u001b[0m\u001b[0;34m]\u001b[0m\u001b[0;34m\u001b[0m\u001b[0;34m\u001b[0m\u001b[0m\n\u001b[0;32m-> 1065\u001b[0;31m   \u001b[0m_attr_T\u001b[0m\u001b[0;34m,\u001b[0m \u001b[0m_inputs_T\u001b[0m \u001b[0;34m=\u001b[0m \u001b[0m_execute\u001b[0m\u001b[0;34m.\u001b[0m\u001b[0margs_to_matching_eager\u001b[0m\u001b[0;34m(\u001b[0m\u001b[0;34m[\u001b[0m\u001b[0minput\u001b[0m\u001b[0;34m,\u001b[0m \u001b[0mfilter\u001b[0m\u001b[0;34m]\u001b[0m\u001b[0;34m,\u001b[0m \u001b[0m_ctx\u001b[0m\u001b[0;34m)\u001b[0m\u001b[0;34m\u001b[0m\u001b[0;34m\u001b[0m\u001b[0m\n\u001b[0m\u001b[1;32m   1066\u001b[0m   \u001b[0;34m(\u001b[0m\u001b[0minput\u001b[0m\u001b[0;34m,\u001b[0m \u001b[0mfilter\u001b[0m\u001b[0;34m)\u001b[0m \u001b[0;34m=\u001b[0m \u001b[0m_inputs_T\u001b[0m\u001b[0;34m\u001b[0m\u001b[0;34m\u001b[0m\u001b[0m\n\u001b[1;32m   1067\u001b[0m   \u001b[0m_inputs_flat\u001b[0m \u001b[0;34m=\u001b[0m \u001b[0;34m[\u001b[0m\u001b[0minput\u001b[0m\u001b[0;34m,\u001b[0m \u001b[0mfilter\u001b[0m\u001b[0;34m]\u001b[0m\u001b[0;34m\u001b[0m\u001b[0;34m\u001b[0m\u001b[0m\n",
      "\u001b[0;32m~/Library/Python/3.6/lib/python/site-packages/tensorflow/python/eager/execute.py\u001b[0m in \u001b[0;36margs_to_matching_eager\u001b[0;34m(l, ctx, default_dtype)\u001b[0m\n\u001b[1;32m    200\u001b[0m         \u001b[0mdtype\u001b[0m \u001b[0;34m=\u001b[0m \u001b[0mret\u001b[0m\u001b[0;34m[\u001b[0m\u001b[0;34m-\u001b[0m\u001b[0;36m1\u001b[0m\u001b[0;34m]\u001b[0m\u001b[0;34m.\u001b[0m\u001b[0mdtype\u001b[0m\u001b[0;34m\u001b[0m\u001b[0;34m\u001b[0m\u001b[0m\n\u001b[1;32m    201\u001b[0m   \u001b[0;32melse\u001b[0m\u001b[0;34m:\u001b[0m\u001b[0;34m\u001b[0m\u001b[0;34m\u001b[0m\u001b[0m\n\u001b[0;32m--> 202\u001b[0;31m     \u001b[0mret\u001b[0m \u001b[0;34m=\u001b[0m \u001b[0;34m[\u001b[0m\u001b[0minternal_convert_to_tensor\u001b[0m\u001b[0;34m(\u001b[0m\u001b[0mt\u001b[0m\u001b[0;34m,\u001b[0m \u001b[0mdtype\u001b[0m\u001b[0;34m,\u001b[0m \u001b[0mctx\u001b[0m\u001b[0;34m=\u001b[0m\u001b[0mctx\u001b[0m\u001b[0;34m)\u001b[0m \u001b[0;32mfor\u001b[0m \u001b[0mt\u001b[0m \u001b[0;32min\u001b[0m \u001b[0ml\u001b[0m\u001b[0;34m]\u001b[0m\u001b[0;34m\u001b[0m\u001b[0;34m\u001b[0m\u001b[0m\n\u001b[0m\u001b[1;32m    203\u001b[0m \u001b[0;34m\u001b[0m\u001b[0m\n\u001b[1;32m    204\u001b[0m   \u001b[0;32mreturn\u001b[0m \u001b[0mdtype\u001b[0m\u001b[0;34m.\u001b[0m\u001b[0mas_datatype_enum\u001b[0m\u001b[0;34m,\u001b[0m \u001b[0mret\u001b[0m\u001b[0;34m\u001b[0m\u001b[0;34m\u001b[0m\u001b[0m\n",
      "\u001b[0;32m~/Library/Python/3.6/lib/python/site-packages/tensorflow/python/eager/execute.py\u001b[0m in \u001b[0;36m<listcomp>\u001b[0;34m(.0)\u001b[0m\n\u001b[1;32m    200\u001b[0m         \u001b[0mdtype\u001b[0m \u001b[0;34m=\u001b[0m \u001b[0mret\u001b[0m\u001b[0;34m[\u001b[0m\u001b[0;34m-\u001b[0m\u001b[0;36m1\u001b[0m\u001b[0;34m]\u001b[0m\u001b[0;34m.\u001b[0m\u001b[0mdtype\u001b[0m\u001b[0;34m\u001b[0m\u001b[0;34m\u001b[0m\u001b[0m\n\u001b[1;32m    201\u001b[0m   \u001b[0;32melse\u001b[0m\u001b[0;34m:\u001b[0m\u001b[0;34m\u001b[0m\u001b[0;34m\u001b[0m\u001b[0m\n\u001b[0;32m--> 202\u001b[0;31m     \u001b[0mret\u001b[0m \u001b[0;34m=\u001b[0m \u001b[0;34m[\u001b[0m\u001b[0minternal_convert_to_tensor\u001b[0m\u001b[0;34m(\u001b[0m\u001b[0mt\u001b[0m\u001b[0;34m,\u001b[0m \u001b[0mdtype\u001b[0m\u001b[0;34m,\u001b[0m \u001b[0mctx\u001b[0m\u001b[0;34m=\u001b[0m\u001b[0mctx\u001b[0m\u001b[0;34m)\u001b[0m \u001b[0;32mfor\u001b[0m \u001b[0mt\u001b[0m \u001b[0;32min\u001b[0m \u001b[0ml\u001b[0m\u001b[0;34m]\u001b[0m\u001b[0;34m\u001b[0m\u001b[0;34m\u001b[0m\u001b[0m\n\u001b[0m\u001b[1;32m    203\u001b[0m \u001b[0;34m\u001b[0m\u001b[0m\n\u001b[1;32m    204\u001b[0m   \u001b[0;32mreturn\u001b[0m \u001b[0mdtype\u001b[0m\u001b[0;34m.\u001b[0m\u001b[0mas_datatype_enum\u001b[0m\u001b[0;34m,\u001b[0m \u001b[0mret\u001b[0m\u001b[0;34m\u001b[0m\u001b[0;34m\u001b[0m\u001b[0m\n",
      "\u001b[0;32m~/Library/Python/3.6/lib/python/site-packages/tensorflow/python/framework/ops.py\u001b[0m in \u001b[0;36minternal_convert_to_tensor\u001b[0;34m(value, dtype, name, as_ref, preferred_dtype, ctx, accept_symbolic_tensors)\u001b[0m\n\u001b[1;32m   1173\u001b[0m \u001b[0;34m\u001b[0m\u001b[0m\n\u001b[1;32m   1174\u001b[0m     \u001b[0;32mif\u001b[0m \u001b[0mret\u001b[0m \u001b[0;32mis\u001b[0m \u001b[0;32mNone\u001b[0m\u001b[0;34m:\u001b[0m\u001b[0;34m\u001b[0m\u001b[0;34m\u001b[0m\u001b[0m\n\u001b[0;32m-> 1175\u001b[0;31m       \u001b[0mret\u001b[0m \u001b[0;34m=\u001b[0m \u001b[0mconversion_func\u001b[0m\u001b[0;34m(\u001b[0m\u001b[0mvalue\u001b[0m\u001b[0;34m,\u001b[0m \u001b[0mdtype\u001b[0m\u001b[0;34m=\u001b[0m\u001b[0mdtype\u001b[0m\u001b[0;34m,\u001b[0m \u001b[0mname\u001b[0m\u001b[0;34m=\u001b[0m\u001b[0mname\u001b[0m\u001b[0;34m,\u001b[0m \u001b[0mas_ref\u001b[0m\u001b[0;34m=\u001b[0m\u001b[0mas_ref\u001b[0m\u001b[0;34m)\u001b[0m\u001b[0;34m\u001b[0m\u001b[0;34m\u001b[0m\u001b[0m\n\u001b[0m\u001b[1;32m   1176\u001b[0m \u001b[0;34m\u001b[0m\u001b[0m\n\u001b[1;32m   1177\u001b[0m     \u001b[0;32mif\u001b[0m \u001b[0mret\u001b[0m \u001b[0;32mis\u001b[0m \u001b[0mNotImplemented\u001b[0m\u001b[0;34m:\u001b[0m\u001b[0;34m\u001b[0m\u001b[0;34m\u001b[0m\u001b[0m\n",
      "\u001b[0;32m~/Library/Python/3.6/lib/python/site-packages/tensorflow/python/ops/variables.py\u001b[0m in \u001b[0;36m_TensorConversionFunction\u001b[0;34m(v, dtype, name, as_ref)\u001b[0m\n\u001b[1;32m    904\u001b[0m       raise ValueError(\n\u001b[1;32m    905\u001b[0m           \u001b[0;34m\"Incompatible type conversion requested to type '%s' for variable \"\u001b[0m\u001b[0;34m\u001b[0m\u001b[0;34m\u001b[0m\u001b[0m\n\u001b[0;32m--> 906\u001b[0;31m           \"of type '%s'\" % (dtype.name, v.dtype.name))\n\u001b[0m\u001b[1;32m    907\u001b[0m     \u001b[0;32mif\u001b[0m \u001b[0mas_ref\u001b[0m\u001b[0;34m:\u001b[0m\u001b[0;34m\u001b[0m\u001b[0;34m\u001b[0m\u001b[0m\n\u001b[1;32m    908\u001b[0m       \u001b[0;32mreturn\u001b[0m \u001b[0mv\u001b[0m\u001b[0;34m.\u001b[0m\u001b[0m_ref\u001b[0m\u001b[0;34m(\u001b[0m\u001b[0;34m)\u001b[0m  \u001b[0;31m# pylint: disable=protected-access\u001b[0m\u001b[0;34m\u001b[0m\u001b[0;34m\u001b[0m\u001b[0m\n",
      "\u001b[0;31mValueError\u001b[0m: Incompatible type conversion requested to type 'float32' for variable of type 'float64'"
     ]
    }
   ],
   "source": [
    "dense_decoded_predictions = classifier(dense_decoded_test_set)\n",
    "conv_decoded_predictions  = classifier(conv_decoded_test_set)"
   ]
  },
  {
   "cell_type": "markdown",
   "metadata": {},
   "source": [
    "Based on this, we see that the fully connected encoder is underperforming the convolutional encoder slightly, not just in loss during training but also in ability to reproduce images of the same class.\n",
    "\n",
    "The two encoders generally produce images that are slightly less easy for the convolutional classifier to identify.  Interestingly, they are given the same category (right or wrong) 96% of the time, and 4% of the time they diverge into a different category.\n",
    "\n",
    "One outstanding question is: how do we tell if a number is being misclassified because of the encoder or because of the classifier?  Let's compare predictions before and after encoding:"
   ]
  },
  {
   "cell_type": "code",
   "execution_count": 386,
   "metadata": {},
   "outputs": [
    {
     "name": "stdout",
     "output_type": "stream",
     "text": [
      "Average accuracy on dense-decoded-test set:  0.76\n"
     ]
    }
   ],
   "source": [
    "print(\"Average accuracy on dense-decoded-test set: \", numpy.mean(test_labels == numpy.argmax(dense_decoded_predictions,axis=-1)))"
   ]
  },
  {
   "cell_type": "code",
   "execution_count": 387,
   "metadata": {},
   "outputs": [
    {
     "ename": "NameError",
     "evalue": "name 'fc_predicted_classes' is not defined",
     "output_type": "error",
     "traceback": [
      "\u001b[0;31m---------------------------------------------------------------------------\u001b[0m",
      "\u001b[0;31mNameError\u001b[0m                                 Traceback (most recent call last)",
      "\u001b[0;32m<ipython-input-387-d73685db64c7>\u001b[0m in \u001b[0;36m<module>\u001b[0;34m\u001b[0m\n\u001b[0;32m----> 1\u001b[0;31m \u001b[0mprint\u001b[0m\u001b[0;34m(\u001b[0m\u001b[0;34m\"F.C. Agreement before/after encoding: \"\u001b[0m\u001b[0;34m,\u001b[0m \u001b[0mnumpy\u001b[0m\u001b[0;34m.\u001b[0m\u001b[0mmean\u001b[0m\u001b[0;34m(\u001b[0m\u001b[0mfc_predicted_classes\u001b[0m \u001b[0;34m==\u001b[0m \u001b[0moriginal_predicted_classes\u001b[0m\u001b[0;34m)\u001b[0m \u001b[0;34m)\u001b[0m\u001b[0;34m\u001b[0m\u001b[0;34m\u001b[0m\u001b[0m\n\u001b[0m\u001b[1;32m      2\u001b[0m \u001b[0mprint\u001b[0m\u001b[0;34m(\u001b[0m\u001b[0;34m\"Conv. Agreement before/after encoding: \"\u001b[0m\u001b[0;34m,\u001b[0m \u001b[0mnumpy\u001b[0m\u001b[0;34m.\u001b[0m\u001b[0mmean\u001b[0m\u001b[0;34m(\u001b[0m\u001b[0mconv_predicted_classes\u001b[0m \u001b[0;34m==\u001b[0m \u001b[0moriginal_predicted_classes\u001b[0m\u001b[0;34m)\u001b[0m \u001b[0;34m)\u001b[0m\u001b[0;34m\u001b[0m\u001b[0;34m\u001b[0m\u001b[0m\n\u001b[1;32m      3\u001b[0m \u001b[0;34m\u001b[0m\u001b[0m\n\u001b[1;32m      4\u001b[0m \u001b[0;34m\u001b[0m\u001b[0m\n",
      "\u001b[0;31mNameError\u001b[0m: name 'fc_predicted_classes' is not defined"
     ]
    }
   ],
   "source": [
    "print(\"F.C. Agreement before/after encoding: \", numpy.mean(fc_predicted_classes == original_predicted_classes) )\n",
    "print(\"Conv. Agreement before/after encoding: \", numpy.mean(conv_predicted_classes == original_predicted_classes) )\n",
    "\n",
    "\n"
   ]
  },
  {
   "cell_type": "markdown",
   "metadata": {},
   "source": [
    "Interest! On the pretrained models at least, the probability that a digit will be classified in the same class it was originally is more than 1% higher.  So here is a metric indicating that for this analysis, faithfully reproducing digits as classified by a neural net, the convolutional network is out performing the fully connected.   Before wrapping up, let's look at some images that are changing categories:"
   ]
  },
  {
   "cell_type": "code",
   "execution_count": 388,
   "metadata": {},
   "outputs": [
    {
     "ename": "NameError",
     "evalue": "name 'conv_predicted_classes' is not defined",
     "output_type": "error",
     "traceback": [
      "\u001b[0;31m---------------------------------------------------------------------------\u001b[0m",
      "\u001b[0;31mNameError\u001b[0m                                 Traceback (most recent call last)",
      "\u001b[0;32m<ipython-input-388-3f933cca693e>\u001b[0m in \u001b[0;36m<module>\u001b[0;34m\u001b[0m\n\u001b[0;32m----> 1\u001b[0;31m \u001b[0mconv_changed_images\u001b[0m \u001b[0;34m=\u001b[0m \u001b[0mconv_predicted_classes\u001b[0m \u001b[0;34m!=\u001b[0m \u001b[0moriginal_predicted_classes\u001b[0m\u001b[0;34m\u001b[0m\u001b[0;34m\u001b[0m\u001b[0m\n\u001b[0m",
      "\u001b[0;31mNameError\u001b[0m: name 'conv_predicted_classes' is not defined"
     ]
    }
   ],
   "source": [
    "conv_changed_images = conv_predicted_classes != original_predicted_classes\n",
    "pre_images = x_test[conv_changed_images]\n",
    "\n",
    "temp = conv_decoded.numpy()\n",
    "post_images = temp[conv_changed_images]\n",
    "\n",
    "fig = plt.figure(figsize=(250,100))\n",
    "image = numpy.zeros((25*28, 2*28))\n",
    "image[:,0:28] = pre_images[0:25].reshape(25*28, 28)\n",
    "image[:,28:] = post_images[0:25].reshape(25*28, 28)\n",
    "plt.imshow(image)\n",
    "plt.show()"
   ]
  },
  {
   "cell_type": "markdown",
   "metadata": {},
   "source": [
    "So, there are 25 examples where the convolutional auto-encoder failed to accurately restore information.  You can see visually it broke down only a little in most of these cases."
   ]
  },
  {
   "cell_type": "code",
   "execution_count": null,
   "metadata": {},
   "outputs": [],
   "source": []
  }
 ],
 "metadata": {
  "kernelspec": {
   "display_name": "Python 3",
   "language": "python",
   "name": "python3"
  },
  "language_info": {
   "codemirror_mode": {
    "name": "ipython",
    "version": 3
   },
   "file_extension": ".py",
   "mimetype": "text/x-python",
   "name": "python",
   "nbconvert_exporter": "python",
   "pygments_lexer": "ipython3",
   "version": "3.6.8"
  }
 },
 "nbformat": 4,
 "nbformat_minor": 2
}
